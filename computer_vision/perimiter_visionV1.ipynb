{
 "cells": [
  {
   "cell_type": "markdown",
   "metadata": {},
   "source": [
    "# Catanomics - Computer Vision and pre-processing\n",
    "The goal of this notebook is to read in an image of a catan board without number or settlements, and draw the board (ports not included) over the image"
   ]
  },
  {
   "cell_type": "code",
   "execution_count": 1,
   "metadata": {},
   "outputs": [],
   "source": [
    "# Import necessary libraries\n",
    "import cv2\n",
    "import numpy as np"
   ]
  },
  {
   "cell_type": "code",
   "execution_count": 2,
   "metadata": {},
   "outputs": [],
   "source": [
    "# Show image function for later use\n",
    "def showImage(img, name=None):\n",
    "    if not name:\n",
    "        cv2.imshow(\"Image display\", img)\n",
    "    else:\n",
    "        cv2.imshow(name, img)\n",
    "    cv2.waitKey(0)\n",
    "    cv2.destroyAllWindows()\n",
    "    \n",
    "# Save image function\n",
    "def saveImage(filename, img, dir):\n",
    "    # Get full path\n",
    "    full_path = f\"{dir}/{filename}\"\n",
    "    cv2.imwrite(full_path, img)\n",
    "    print(f\"Image saved to {full_path}\")"
   ]
  },
  {
   "cell_type": "markdown",
   "metadata": {},
   "source": [
    "## 1. Read in the image, detect the border, and find the max/min y point of the permiter"
   ]
  },
  {
   "cell_type": "code",
   "execution_count": 3,
   "metadata": {},
   "outputs": [],
   "source": [
    "# Read in an image\n",
    "image = cv2.imread('../images/v3/board01.jpg')\n",
    "# The input imgs are too big, so reduce to 25%\n",
    "image = cv2.resize(image, (0,0), fx=.25, fy=.25)\n",
    "showImage(image)\n",
    "og_img = image.copy()"
   ]
  },
  {
   "cell_type": "code",
   "execution_count": 4,
   "metadata": {},
   "outputs": [],
   "source": [
    "# Convert the image to hsv\n",
    "hsv_image = cv2.cvtColor(image, cv2.COLOR_BGR2HSV)"
   ]
  },
  {
   "cell_type": "code",
   "execution_count": 5,
   "metadata": {},
   "outputs": [],
   "source": [
    "# Define color bounds for the perimiter of the board\n",
    "lower_blue = np.array([100, 150, 0])\n",
    "upper_blue = np.array([140, 255, 255])\n",
    "\n",
    "# Create a binary mask where the blue regions are white, and everything else is black\n",
    "mask = cv2.inRange(hsv_image, lower_blue, upper_blue)\n",
    "showImage(mask)"
   ]
  },
  {
   "cell_type": "code",
   "execution_count": 6,
   "metadata": {},
   "outputs": [],
   "source": [
    "# Bitwise AND to keep the blue parts of the image\n",
    "blue_regions = cv2.bitwise_and(image, image, mask=mask)"
   ]
  },
  {
   "cell_type": "code",
   "execution_count": 7,
   "metadata": {},
   "outputs": [
    {
     "name": "stdout",
     "output_type": "stream",
     "text": [
      "[[0 0 0 ... 0 0 0]\n",
      " [0 0 0 ... 0 0 0]\n",
      " [0 0 0 ... 0 0 0]\n",
      " ...\n",
      " [0 0 0 ... 0 0 0]\n",
      " [0 0 0 ... 0 0 0]\n",
      " [0 0 0 ... 0 0 0]]\n"
     ]
    }
   ],
   "source": [
    "# Perform canny edge detection on the blue_regions\n",
    "\n",
    "# Convert to grayscale\n",
    "gray_blue_region = cv2.cvtColor(blue_regions, cv2.COLOR_BGR2GRAY)\n",
    "# Apply Gaussian Blur\n",
    "blurred_blue_regions = cv2.GaussianBlur(gray_blue_region, (5,5), 0)\n",
    "# Canny edge detection\n",
    "edges = cv2.Canny(blurred_blue_regions, 50, 150)\n",
    "# Show the result\n",
    "showImage(edges, \"Edges in blue regions\")\n",
    "\n",
    "# 729.24435816, 601.65764162\n",
    "print(edges)"
   ]
  },
  {
   "cell_type": "markdown",
   "metadata": {},
   "source": [
    "## 2. Perform Hough Transform on the images"
   ]
  },
  {
   "cell_type": "code",
   "execution_count": 8,
   "metadata": {},
   "outputs": [
    {
     "name": "stdout",
     "output_type": "stream",
     "text": [
      "Trying threshold 200 | Got 3 lines.\n",
      "Trying threshold 195 | Got 3 lines.\n",
      "Trying threshold 190 | Got 3 lines.\n",
      "Trying threshold 185 | Got 3 lines.\n",
      "Trying threshold 180 | Got 3 lines.\n",
      "Trying threshold 175 | Got 3 lines.\n",
      "Trying threshold 170 | Got 3 lines.\n",
      "Trying threshold 165 | Got 3 lines.\n",
      "Trying threshold 160 | Got 3 lines.\n",
      "Trying threshold 155 | Got 4 lines.\n",
      "Trying threshold 150 | Got 4 lines.\n",
      "Trying threshold 145 | Got 4 lines.\n",
      "Trying threshold 140 | Got 5 lines.\n",
      "Trying threshold 135 | Got 5 lines.\n",
      "Trying threshold 130 | Got 5 lines.\n",
      "Trying threshold 125 | Got 6 lines.\n",
      "Trying threshold 120 | Got 8 lines.\n",
      "Trying threshold 115 | Got 11 lines.\n",
      "Results: 115 threshold | 11 lines\n"
     ]
    }
   ],
   "source": [
    "# Perform Hough Transform using `HoughLines`\n",
    "lines = []\n",
    "thresh = 200\n",
    "while len(lines) < 10:\n",
    "    lines = cv2.HoughLines(edges, 1, np.pi / 180, thresh)\n",
    "    print(f\"Trying threshold {thresh} | Got {len(lines)} lines.\")\n",
    "    if len(lines) >= 10:\n",
    "        break\n",
    "    else:\n",
    "        thresh -= 5\n",
    "\n",
    "print(f\"Results: {thresh} threshold | {len(lines)} lines\")"
   ]
  },
  {
   "cell_type": "code",
   "execution_count": 9,
   "metadata": {},
   "outputs": [
    {
     "name": "stdout",
     "output_type": "stream",
     "text": [
      "Image saved to ../images/perimiter/v1/perimiter00.jpg\n"
     ]
    }
   ],
   "source": [
    "# Draw lines on the image\n",
    "for line in lines:\n",
    "    rho, theta = line[0]\n",
    "    a = np.cos(theta)\n",
    "    b = np.sin(theta)\n",
    "    x0 = a * rho\n",
    "    y0 = b * rho\n",
    "    x1 = int(x0 + 1000 * (-b))\n",
    "    y1 = int(y0 + 1000 * (a))\n",
    "    x2 = int(x0 - 1000 * (-b))\n",
    "    y2 = int(y0 - 1000 * (a))\n",
    "    cv2.line(image, (x1, y1), (x2, y2), (0, 0, 255), 2)\n",
    "    \n",
    "showImage(image)\n",
    "saveImage(\"perimiter00.jpg\", image, \"../images/perimiter/v1\")"
   ]
  },
  {
   "cell_type": "code",
   "execution_count": 10,
   "metadata": {},
   "outputs": [
    {
     "name": "stdout",
     "output_type": "stream",
     "text": [
      "-331.0\n"
     ]
    }
   ],
   "source": [
    "print(lines[0, 0, 0])"
   ]
  },
  {
   "cell_type": "code",
   "execution_count": 11,
   "metadata": {},
   "outputs": [
    {
     "name": "stdout",
     "output_type": "stream",
     "text": [
      "deleting an overlapping line at index 7: [[240.          2.4783676]]\n",
      "deleting an overlapping line at index 8: [[242.          2.4783676]]\n",
      "deleting an overlapping line at index 7: [[240.          2.4783676]]\n",
      "deleting an overlapping line at index 8: [[242.          2.4783676]]\n",
      "deleting an overlapping line at index 6: [[745.          1.3439035]]\n",
      "deleting an overlapping line at index 9: [[123.          1.6406095]]\n",
      "deleting an overlapping line at index 10: [[7.0500000e+02 3.3161256e-01]]\n",
      "deleting an overlapping line at index 8: [[242.          2.4783676]]\n",
      "Overlapping indexes: [7, 8, 7, 8, 6, 9, 10, 8]\n"
     ]
    }
   ],
   "source": [
    "min_rho_difference = 25\n",
    "overlapping_indexes = []\n",
    "\n",
    "for i in range(len(lines)):\n",
    "    rho, _ = lines[i, 0]\n",
    "    for j in range(i+1, len(lines)):\n",
    "        rho2, _ = lines[j, 0]\n",
    "        if abs(rho - rho2) < min_rho_difference:\n",
    "            print(f\"deleting an overlapping line at index {j}: {lines[j]}\")\n",
    "            overlapping_indexes.append(j)\n",
    "print(f\"Overlapping indexes: {overlapping_indexes}\")"
   ]
  },
  {
   "cell_type": "code",
   "execution_count": 12,
   "metadata": {},
   "outputs": [
    {
     "name": "stdout",
     "output_type": "stream",
     "text": [
      "6\n"
     ]
    }
   ],
   "source": [
    "perimiter_lines = []\n",
    "for i in range(len(lines)):\n",
    "    if i not in overlapping_indexes:\n",
    "        perimiter_lines.append(lines[i])\n",
    "        \n",
    "print(len(perimiter_lines))"
   ]
  },
  {
   "cell_type": "code",
   "execution_count": 13,
   "metadata": {},
   "outputs": [
    {
     "name": "stdout",
     "output_type": "stream",
     "text": [
      "Coordinates of line 0: ((-213, -1031)) to ((786, 700))\n",
      "Coordinates of line 1: ((-223, 999)) to ((622, -813))\n",
      "Coordinates of line 2: ((-823, -619)) to ((435, 934))\n",
      "Coordinates of line 3: ((-824, 932)) to ((1132, 516))\n",
      "Coordinates of line 4: ((-1006, 29)) to ((985, 203))\n",
      "Coordinates of line 5: ((326, 1182)) to ((1010, -696))\n"
     ]
    },
    {
     "data": {
      "text/plain": [
       "[(-213, -1031), (786, 700)]"
      ]
     },
     "execution_count": 13,
     "metadata": {},
     "output_type": "execute_result"
    }
   ],
   "source": [
    "# This is a list of lists of tuples which are coordinates for each line\n",
    "line_coords = []\n",
    "# Calculate start and end points for the lines\n",
    "for index, line in enumerate(perimiter_lines):\n",
    "    rho, theta = line[0]\n",
    "    a = np.cos(theta)\n",
    "    b = np.sin(theta)\n",
    "    x0 = a * rho\n",
    "    y0 = b * rho\n",
    "    x1 = int(x0 + 1000 * (-b))\n",
    "    y1 = int(y0 + 1000 * (a))\n",
    "    x2 = int(x0 - 1000 * (-b))\n",
    "    y2 = int(y0 - 1000 * (a))\n",
    "    # cv2.line(og_img, (x1, y1), (x2, y2), (0, 0, 255), 2)\n",
    "    print(f\"Coordinates of line {index}: ({x1, y1}) to ({x2, y2})\")\n",
    "    line_coords.append([(x1, y1), (x2, y2)])\n",
    "line_coords[0]"
   ]
  },
  {
   "cell_type": "code",
   "execution_count": 14,
   "metadata": {},
   "outputs": [],
   "source": [
    "import math\n",
    "# Function to calculate the slope given two points\n",
    "def slope(x1,y1,x2,y2):\n",
    "    ###finding slope\n",
    "    if x2!=x1:\n",
    "        return((y2-y1)/(x2-x1))\n",
    "    else:\n",
    "        return 'NA'\n",
    "\n",
    "# Function to calculate the y-intercept given two points \n",
    "def y_intercept(x1,y1,x2,y2):\n",
    "    # y = mx+b OR b = y-mx\n",
    "    b = y1 - (slope(x1, y1, x2, y2) * x1)\n",
    "    return b\n",
    "\n",
    "def calc_intersection(m1,b1,m2,b2):\n",
    "    # Create the coefficient matrices\n",
    "    a = np.array([[-m1, 1], [-m2, 1]])\n",
    "    b = np.array([b1, b2])\n",
    "    try:\n",
    "        solution = np.linalg.solve(a, b)\n",
    "    except:\n",
    "        return None\n",
    "\n",
    "    return solution\n",
    "\n",
    "# Function that draws the lines in the bounds of the image\n",
    "def drawLine(image,x1,y1,x2,y2):\n",
    "\n",
    "    m=slope(x1,y1,x2,y2)\n",
    "    h,w=image.shape[:2]\n",
    "    if m!='NA':\n",
    "        ### here we are essentially extending the line to x=0 and x=width\n",
    "        ### and calculating the y associated with it\n",
    "        ##starting point\n",
    "        px=0\n",
    "        py=-(x1-0)*m+y1\n",
    "        ##ending point\n",
    "        qx=w\n",
    "        qy=-(x2-w)*m+y2\n",
    "    else:\n",
    "    ### if slope is zero, draw a line with x=x1 and y=0 and y=height\n",
    "        px,py=x1,0\n",
    "        qx,qy=x1,h\n",
    "    # Draws a green line\n",
    "    cv2.line(image, (int(px), int(py)), (int(qx), int(qy)), (0, 255, 0), 2)"
   ]
  },
  {
   "cell_type": "code",
   "execution_count": 15,
   "metadata": {},
   "outputs": [
    {
     "name": "stdout",
     "output_type": "stream",
     "text": [
      "[[(-213, -1031), (786, 700)], [(-223, 999), (622, -813)], [(-823, -619), (435, 934)], [(-824, 932), (1132, 516)], [(-1006, 29), (985, 203)], [(326, 1182), (1010, -696)]]\n"
     ]
    },
    {
     "data": {
      "text/plain": [
       "[(1.7327327327327327, -661.927927927928),\n",
       " (-2.1443786982248523, 520.8035502958579),\n",
       " (1.2344992050874404, 396.99284578696347),\n",
       " (-0.21267893660531698, 756.7525562372189),\n",
       " (0.0873932697137117, 116.91762933199396),\n",
       " (-2.745614035087719, 2077.0701754385964)]"
      ]
     },
     "execution_count": 15,
     "metadata": {},
     "output_type": "execute_result"
    }
   ],
   "source": [
    "test_image = og_img.copy()\n",
    "# List of lists of tuples of slope and y-intercept of linear lines\n",
    "line_equations = []\n",
    "print(line_coords)\n",
    "for line in line_coords:\n",
    "    line_equations.append((slope(line[0][0], line[0][1], line[1][0], line[1][1]), y_intercept(line[0][0], line[0][1], line[1][0], line[1][1])))\n",
    "\n",
    "line_equations"
   ]
  },
  {
   "cell_type": "code",
   "execution_count": null,
   "metadata": {},
   "outputs": [],
   "source": []
  },
  {
   "cell_type": "code",
   "execution_count": 16,
   "metadata": {},
   "outputs": [
    {
     "name": "stdout",
     "output_type": "stream",
     "text": [
      "Perimeter points: [(729, 602), (473, 158), (612, 398), (37, 442), (181, 133), (249, 704), (422, 918), (521, 646), (692, 177)]\n"
     ]
    }
   ],
   "source": [
    "# intersection = calc_intersection(line_equations[0][0], line_equations[0][1], line_equations[1][0], line_equations[1][1])\n",
    "# cv2.circle(test_image, (int(intersection[0]), int(intersection[1])), 1, (0, 0, 255), -1)\n",
    "# showImage(test_image)\n",
    "\n",
    "perimeter_points = []\n",
    "image_height, image_width, _ = test_image.shape\n",
    "for ind, line_one in enumerate(line_equations):\n",
    "    for line_two in line_equations[ind+1:]:\n",
    "        perimeter_point = calc_intersection(line_one[0], line_one[1], line_two[0], line_two[1])\n",
    "        if perimeter_point[0] >= 0 and perimeter_point[0] <= image_width and perimeter_point[1] >= 0 and perimeter_point[1] <= image_height:\n",
    "            perimeter_points.append((round(perimeter_point[0]), round(perimeter_point[1])))\n",
    "\n",
    "# for i in range(len(line_equations)):\n",
    "#     if i+1 == len(line_equations):\n",
    "#         perimeter_point = calc_intersection(line_equations[i][0], line_equations[i][1], line_equations[0][0], line_equations[0][1])\n",
    "#     else:\n",
    "#         perimeter_point = calc_intersection(line_equations[i][0], line_equations[i][1], line_equations[i+1][0], line_equations[i+1][1])\n",
    "#     perimeter_points.append(perimeter_point)\n",
    "\n",
    "print(f\"Perimeter points: {perimeter_points}\")"
   ]
  },
  {
   "cell_type": "markdown",
   "metadata": {},
   "source": [
    "### Finding the cloesest edge points with the coordinates found in the intersections (and setting a max distance so we get rid of non-perimeter points)"
   ]
  },
  {
   "cell_type": "code",
   "execution_count": 20,
   "metadata": {},
   "outputs": [
    {
     "name": "stdout",
     "output_type": "stream",
     "text": [
      "[(729, 602), (473, 158), (612, 398), (37, 442), (181, 133), (249, 704), (422, 918), (521, 646), (692, 177)]\n",
      "Point (473, 158) has a distance of 0.0 to the closest white pixel\n",
      "Point (612, 398) has a distance of 1.0 to the closest white pixel\n",
      "Point (37, 442) has a distance of 0.0 to the closest white pixel\n",
      "Point (181, 133) has a distance of 2.0 to the closest white pixel\n",
      "Point (249, 704) has a distance of 1.0 to the closest white pixel\n",
      "Point (521, 646) has a distance of 0.0 to the closest white pixel\n"
     ]
    }
   ],
   "source": [
    "# Invert the binary image (edges)\n",
    "inverted_edges = 255 - edges\n",
    "\n",
    "# Apply distance transform\n",
    "dist_transform = cv2.distanceTransform(inverted_edges, cv2.DIST_L2, 5)\n",
    "\n",
    "good_pts = []\n",
    "# For each point, find the distance to the closest white pixel\n",
    "for i in range(len(perimeter_points)):\n",
    "    x, y = perimeter_points[i]\n",
    "    dist_to_edge = dist_transform[y, x]\n",
    "    if dist_to_edge < 5:\n",
    "        good_pts.append(perimeter_points[i])\n",
    "        # perimeter_points = perimeter_points[0:i] + perimeter_points[i+1:]\n",
    "\n",
    "for point in good_pts:\n",
    "    cv2.circle(test_image, (round(point[0]), round(point[1])), 5, (255, 0, 255), -1)\n",
    "showImage(test_image)"
   ]
  }
 ],
 "metadata": {
  "kernelspec": {
   "display_name": "Python 3",
   "language": "python",
   "name": "python3"
  },
  "language_info": {
   "codemirror_mode": {
    "name": "ipython",
    "version": 3
   },
   "file_extension": ".py",
   "mimetype": "text/x-python",
   "name": "python",
   "nbconvert_exporter": "python",
   "pygments_lexer": "ipython3",
   "version": "3.11.7"
  }
 },
 "nbformat": 4,
 "nbformat_minor": 2
}
