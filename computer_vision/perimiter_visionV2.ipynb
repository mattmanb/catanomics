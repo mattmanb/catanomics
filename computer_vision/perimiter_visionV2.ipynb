{
 "cells": [
  {
   "cell_type": "markdown",
   "metadata": {},
   "source": [
    "# Catanomics - Computer Vision and pre-processing\n",
    "The goal of this notebook is to read in an image of a catan board without number or settlements, and draw the board (ports not included) over the image"
   ]
  },
  {
   "cell_type": "code",
   "execution_count": 117,
   "metadata": {},
   "outputs": [],
   "source": [
    "# Import necessary libraries\n",
    "import cv2\n",
    "import numpy as np"
   ]
  },
  {
   "cell_type": "code",
   "execution_count": 118,
   "metadata": {},
   "outputs": [],
   "source": [
    "# Show image function for later use\n",
    "def showImage(img, name=None):\n",
    "    if not name:\n",
    "        cv2.imshow(\"Image display\", img)\n",
    "    else:\n",
    "        cv2.imshow(name, img)\n",
    "    cv2.waitKey(0)\n",
    "    cv2.destroyAllWindows()\n",
    "    \n",
    "# Save image function\n",
    "def saveImage(filename, img, dir):\n",
    "    # Get full path\n",
    "    full_path = f\"{dir}/{filename}\"\n",
    "    cv2.imwrite(full_path, img)\n",
    "    print(f\"Image saved to {full_path}\")"
   ]
  },
  {
   "cell_type": "markdown",
   "metadata": {},
   "source": [
    "## 1. Read in the image, detect the border, and find the max/min y point of the permiter"
   ]
  },
  {
   "cell_type": "code",
   "execution_count": 119,
   "metadata": {},
   "outputs": [],
   "source": [
    "# Read in an image\n",
    "# image = cv2.imread('../images/v0/catan01q.jpg')\n",
    "image = cv2.imread('../images/v2/board00.jpg')\n",
    "# The input imgs are too big, so reduce to 25%\n",
    "image = cv2.resize(image, (1052,1052))\n",
    "showImage(image)\n",
    "og_img = image.copy()"
   ]
  },
  {
   "cell_type": "code",
   "execution_count": 120,
   "metadata": {},
   "outputs": [],
   "source": [
    "# Convert the image to hsv\n",
    "hsv_image = cv2.cvtColor(image, cv2.COLOR_BGR2HSV)"
   ]
  },
  {
   "cell_type": "code",
   "execution_count": 121,
   "metadata": {},
   "outputs": [],
   "source": [
    "# Define color bounds for the perimiter of the board\n",
    "lower_blue = np.array([100, 150, 0])\n",
    "upper_blue = np.array([140, 255, 255])\n",
    "\n",
    "# # This is for beige instead of blue (EXPERIMENT)\n",
    "# upper_blue = np.array([174, 242, 251])\n",
    "# lower_blue = np.array([49, 145, 174])\n",
    "\n",
    "# Create a binary mask where the blue regions are white, and everything else is black\n",
    "mask = cv2.inRange(hsv_image, lower_blue, upper_blue)\n",
    "# showImage(mask)"
   ]
  },
  {
   "cell_type": "code",
   "execution_count": 122,
   "metadata": {},
   "outputs": [],
   "source": [
    "# Bitwise AND to keep the blue parts of the image\n",
    "blue_regions = cv2.bitwise_and(image, image, mask=mask)"
   ]
  },
  {
   "cell_type": "code",
   "execution_count": 123,
   "metadata": {},
   "outputs": [
    {
     "name": "stdout",
     "output_type": "stream",
     "text": [
      "[[0 0 0 ... 0 0 0]\n",
      " [0 0 0 ... 0 0 0]\n",
      " [0 0 0 ... 0 0 0]\n",
      " ...\n",
      " [0 0 0 ... 0 0 0]\n",
      " [0 0 0 ... 0 0 0]\n",
      " [0 0 0 ... 0 0 0]]\n"
     ]
    }
   ],
   "source": [
    "# Perform canny edge detection on the blue_regions\n",
    "\n",
    "# Convert to grayscale\n",
    "gray_blue_region = cv2.cvtColor(blue_regions, cv2.COLOR_BGR2GRAY)\n",
    "# Apply Gaussian Blur\n",
    "blurred_blue_regions = cv2.GaussianBlur(gray_blue_region, (5,5), 0)\n",
    "# Canny edge detection\n",
    "edges = cv2.Canny(blurred_blue_regions, 50, 150)\n",
    "# Show the result\n",
    "# showImage(edges, \"Edges in blue regions\")\n",
    "\n",
    "# 729.24435816, 601.65764162\n",
    "print(edges)"
   ]
  },
  {
   "cell_type": "markdown",
   "metadata": {},
   "source": [
    "## 2. Perform Hough Transform on the images"
   ]
  },
  {
   "cell_type": "code",
   "execution_count": 124,
   "metadata": {},
   "outputs": [
    {
     "name": "stdout",
     "output_type": "stream",
     "text": [
      "0\n",
      "5\n",
      "Trying threshold 200 | Got 5 lines.\n",
      "5\n",
      "Trying threshold 195 | Got 5 lines.\n",
      "5\n",
      "Trying threshold 190 | Got 5 lines.\n",
      "5\n",
      "Trying threshold 185 | Got 5 lines.\n",
      "5\n",
      "Trying threshold 180 | Got 5 lines.\n",
      "6\n",
      "Trying threshold 175 | Got 6 lines.\n",
      "6\n",
      "Trying threshold 170 | Got 6 lines.\n",
      "6\n",
      "Trying threshold 165 | Got 6 lines.\n",
      "6\n",
      "Trying threshold 160 | Got 6 lines.\n",
      "6\n",
      "Trying threshold 155 | Got 6 lines.\n",
      "8\n",
      "Trying threshold 150 | Got 8 lines.\n",
      "8\n",
      "Trying threshold 145 | Got 8 lines.\n",
      "8\n",
      "Trying threshold 140 | Got 8 lines.\n",
      "8\n",
      "Trying threshold 135 | Got 8 lines.\n",
      "8\n",
      "Trying threshold 130 | Got 8 lines.\n",
      "9\n",
      "Trying threshold 125 | Got 9 lines.\n",
      "11\n",
      "Trying threshold 120 | Got 11 lines.\n",
      "Results: 120 threshold | 11 lines\n"
     ]
    }
   ],
   "source": [
    "# Perform Hough Transform using `HoughLines`\n",
    "lines = []\n",
    "thresh = 200\n",
    "print(len(lines))\n",
    "while len(lines) < 10:\n",
    "    lines = cv2.HoughLines(edges, 1, np.pi / 180, thresh)\n",
    "    print(len(lines))\n",
    "    print(f\"Trying threshold {thresh} | Got {len(lines)} lines.\")\n",
    "    if len(lines) >= 10:\n",
    "        break\n",
    "    else:\n",
    "        thresh -= 5\n",
    "print(f\"Results: {thresh} threshold | {len(lines)} lines\")"
   ]
  },
  {
   "cell_type": "code",
   "execution_count": 125,
   "metadata": {},
   "outputs": [],
   "source": [
    "# Draw lines on the image\n",
    "for line in lines:\n",
    "    rho, theta = line[0]\n",
    "    a = np.cos(theta)\n",
    "    b = np.sin(theta)\n",
    "    x0 = a * rho\n",
    "    y0 = b * rho\n",
    "    x1 = int(x0 + 1000 * (-b))\n",
    "    y1 = int(y0 + 1000 * (a))\n",
    "    x2 = int(x0 - 1000 * (-b))\n",
    "    y2 = int(y0 - 1000 * (a))\n",
    "    cv2.line(image, (x1, y1), (x2, y2), (0, 0, 255), 2)\n",
    "    \n",
    "showImage(image)\n",
    "# saveImage(\"perimiter00.jpg\", image, \"../images/perimiter/v1\")"
   ]
  },
  {
   "cell_type": "code",
   "execution_count": 126,
   "metadata": {},
   "outputs": [
    {
     "name": "stdout",
     "output_type": "stream",
     "text": [
      "deleting an overlapping line at index 10: [[352.          1.1693705]]\n",
      "deleting an overlapping line at index 9: [[625.          1.9722221]]\n",
      "deleting an overlapping line at index 7: [[1044.           1.1519173]]\n",
      "deleting an overlapping line at index 8: [[1046.           1.1519173]]\n",
      "deleting an overlapping line at index 8: [[1046.           1.1519173]]\n",
      "deleting an overlapping line at index 10: [[352.          1.1693705]]\n",
      "deleting an overlapping line at index 9: [[625.          1.9722221]]\n",
      "deleting an overlapping line at index 5: [[-58.          1.9722221]]\n",
      "deleting an overlapping line at index 7: [[1044.           1.1519173]]\n",
      "deleting an overlapping line at index 8: [[1046.           1.1519173]]\n",
      "deleting an overlapping line at index 8: [[1046.           1.1519173]]\n",
      "Overlapping indexes: {5, 7, 8, 9, 10}\n"
     ]
    }
   ],
   "source": [
    "min_rho_difference = 10\n",
    "overlapping_indexes = set()\n",
    "\n",
    "while len(overlapping_indexes) < len(lines) - 6:\n",
    "    for i in range(len(lines)):\n",
    "        rho, _ = lines[i, 0]\n",
    "        for j in range(i+1, len(lines)):\n",
    "            rho2, _ = lines[j, 0]\n",
    "            if abs(rho - rho2) < min_rho_difference:\n",
    "                print(f\"deleting an overlapping line at index {j}: {lines[j]}\")\n",
    "                overlapping_indexes.add(j)\n",
    "    min_rho_difference+=5\n",
    "print(f\"Overlapping indexes: {overlapping_indexes}\")"
   ]
  },
  {
   "cell_type": "code",
   "execution_count": 127,
   "metadata": {},
   "outputs": [
    {
     "name": "stdout",
     "output_type": "stream",
     "text": [
      "6\n"
     ]
    }
   ],
   "source": [
    "perimiter_lines = []\n",
    "for i in range(len(lines)):\n",
    "    if i not in overlapping_indexes:\n",
    "        perimiter_lines.append(lines[i])\n",
    "        \n",
    "print(len(perimiter_lines))"
   ]
  },
  {
   "cell_type": "code",
   "execution_count": 128,
   "metadata": {},
   "outputs": [
    {
     "name": "stdout",
     "output_type": "stream",
     "text": [
      "Coordinates of line 0: ((-797, 696)) to ((1057, -52))\n",
      "Coordinates of line 1: ((-1164, 156)) to ((662, 969))\n",
      "Coordinates of line 2: ((907, -1032)) to ((977, 966))\n",
      "Coordinates of line 3: ((-884, -472)) to ((942, 340))\n",
      "Coordinates of line 4: ((-514, 1346)) to ((1326, 564))\n",
      "Coordinates of line 5: ((74, 1003)) to ((143, -995))\n"
     ]
    },
    {
     "data": {
      "text/plain": [
       "[(-797, 696), (1057, -52)]"
      ]
     },
     "execution_count": 128,
     "metadata": {},
     "output_type": "execute_result"
    }
   ],
   "source": [
    "# This is a list of lists of tuples which are coordinates for each line\n",
    "line_coords = []\n",
    "# Calculate start and end points for the lines\n",
    "for index, line in enumerate(perimiter_lines):\n",
    "    rho, theta = line[0]\n",
    "    a = np.cos(theta)\n",
    "    b = np.sin(theta)\n",
    "    x0 = a * rho\n",
    "    y0 = b * rho\n",
    "    x1 = int(x0 + 1000 * (-b))\n",
    "    y1 = int(y0 + 1000 * (a))\n",
    "    x2 = int(x0 - 1000 * (-b))\n",
    "    y2 = int(y0 - 1000 * (a))\n",
    "    # cv2.line(og_img, (x1, y1), (x2, y2), (0, 0, 255), 2)\n",
    "    print(f\"Coordinates of line {index}: ({x1, y1}) to ({x2, y2})\")\n",
    "    line_coords.append([(x1, y1), (x2, y2)])\n",
    "line_coords[0]"
   ]
  },
  {
   "cell_type": "code",
   "execution_count": 129,
   "metadata": {},
   "outputs": [],
   "source": [
    "import math\n",
    "# Function to calculate the slope given two points\n",
    "def slope(x1,y1,x2,y2):\n",
    "    ###finding slope\n",
    "    if x2!=x1:\n",
    "        return((y2-y1)/(x2-x1))\n",
    "    else:\n",
    "        return 'NA'\n",
    "\n",
    "# Function to calculate the y-intercept given two points \n",
    "def y_intercept(x1,y1,x2,y2):\n",
    "    # y = mx+b OR b = y-mx\n",
    "    b = y1 - int(slope(x1, y1, x2, y2) * x1)\n",
    "    return b\n",
    "\n",
    "def calc_intersection(m1,b1,m2,b2):\n",
    "    # Create the coefficient matrices\n",
    "    a = np.array([[-m1, 1], [-m2, 1]])\n",
    "    b = np.array([b1, b2])\n",
    "    try:\n",
    "        solution = np.linalg.solve(a, b)\n",
    "    except:\n",
    "        solution = (0,0)\n",
    "\n",
    "    return solution\n",
    "\n",
    "# Function that draws the lines in the bounds of the image\n",
    "def drawLine(image,x1,y1,x2,y2):\n",
    "\n",
    "    m=slope(x1,y1,x2,y2)\n",
    "    h,w=image.shape[:2]\n",
    "    if m!='NA':\n",
    "        ## here we are essentially extending the line to x=0 and x=width\n",
    "        ## and calculating the y associated with it\n",
    "        # starting point\n",
    "        px=0\n",
    "        py=-(x1-0)*m+y1\n",
    "        # ending point\n",
    "        qx=w\n",
    "        qy=-(x2-w)*m+y2\n",
    "    else:\n",
    "    # if slope is zero, draw a line with x=x1 and y=0 and y=height\n",
    "        px,py=x1,0\n",
    "        qx,qy=x1,h\n",
    "    # Draws a green line\n",
    "    cv2.line(image, (int(px), int(py)), (int(qx), int(qy)), (0, 255, 0), 3)"
   ]
  },
  {
   "cell_type": "code",
   "execution_count": 130,
   "metadata": {},
   "outputs": [
    {
     "name": "stdout",
     "output_type": "stream",
     "text": [
      "[[(-797, 696), (1057, -52)], [(-1164, 156), (662, 969)], [(907, -1032), (977, 966)], [(-884, -472), (942, 340)], [(-514, 1346), (1326, 564)], [(74, 1003), (143, -995)]]\n"
     ]
    },
    {
     "data": {
      "text/plain": [
       "[(-0.4034519956850054, 375),\n",
       " (0.4452354874041621, 674),\n",
       " (28.542857142857144, -26920),\n",
       " (0.44468784227820374, -79),\n",
       " (-0.425, 1128),\n",
       " (-28.956521739130434, 3145)]"
      ]
     },
     "execution_count": 130,
     "metadata": {},
     "output_type": "execute_result"
    }
   ],
   "source": [
    "test_image = og_img.copy()\n",
    "# List of lists of tuples of slope and y-intercept of linear lines\n",
    "line_equations = []\n",
    "print(line_coords)\n",
    "for line in line_coords:\n",
    "    try:\n",
    "        line_equations.append((slope(line[0][0], line[0][1], line[1][0], line[1][1]), y_intercept(line[0][0], line[0][1], line[1][0], line[1][1])))\n",
    "    except:\n",
    "        pass\n",
    "line_equations"
   ]
  },
  {
   "cell_type": "code",
   "execution_count": 131,
   "metadata": {},
   "outputs": [
    {
     "name": "stdout",
     "output_type": "stream",
     "text": [
      "[-352.308719    517.13965578]\n",
      "[942.95268766  -5.43614367]\n",
      "[535.28908758 159.03654935]\n",
      "[ 34945.23153942 -13723.72340426]\n",
      "[ 97.01233615 335.86017938]\n",
      "[ 982.0760041  1111.25508835]\n",
      "[-1374978.00000014  -611515.00000006]\n",
      "[521.6978698  906.27840534]\n",
      "[ 84.04259585 711.41874613]\n",
      "[955.25796406 345.79160286]\n",
      "[968.24559241 716.49562323]\n",
      "[   522.87521334 -11995.64748201]\n",
      "[1387.8542867   538.16192815]\n",
      "[109.65535248 -30.23759791]\n",
      "[  70.69374071 1097.9551602 ]\n",
      "Perimeter points: [(535, 159), (97, 336), (522, 906), (84, 711), (955, 346), (968, 716)]\n"
     ]
    }
   ],
   "source": [
    "# intersection = calc_intersection(line_equations[0][0], line_equations[0][1], line_equations[1][0], line_equations[1][1])\n",
    "# cv2.circle(test_image, (int(intersection[0]), int(intersection[1])), 1, (0, 0, 255), -1)\n",
    "# showImage(test_image)\n",
    "\n",
    "perimeter_points = []\n",
    "image_height, image_width, _ = test_image.shape\n",
    "for ind, line_one in enumerate(line_equations):\n",
    "    for line_two in line_equations[ind+1:]:\n",
    "        perimeter_point = calc_intersection(line_one[0], line_one[1], line_two[0], line_two[1])\n",
    "        print(perimeter_point)\n",
    "        if perimeter_point[0] == 0 and perimeter_point[1] == 0:\n",
    "            print(\"This perimiter point doesnt matter ?!\")\n",
    "            pass\n",
    "        elif perimeter_point[0] >= 0 and perimeter_point[0] <= image_width and perimeter_point[1] >= 0 and perimeter_point[1] <= image_height:\n",
    "            perimeter_points.append((round(perimeter_point[0]), round(perimeter_point[1])))\n",
    "\n",
    "# for i in range(len(line_equations)):\n",
    "#     if i+1 == len(line_equations):\n",
    "#         perimeter_point = calc_intersection(line_equations[i][0], line_equations[i][1], line_equations[0][0], line_equations[0][1])\n",
    "#     else:\n",
    "#         perimeter_point = calc_intersection(line_equations[i][0], line_equations[i][1], line_equations[i+1][0], line_equations[i+1][1])\n",
    "#     perimeter_points.append(perimeter_point)\n",
    "\n",
    "print(f\"Perimeter points: {perimeter_points}\")"
   ]
  },
  {
   "cell_type": "markdown",
   "metadata": {},
   "source": [
    "### Finding the cloesest edge points with the coordinates found in the intersections (and setting a max distance so we get rid of non-perimeter points)"
   ]
  },
  {
   "cell_type": "code",
   "execution_count": 132,
   "metadata": {},
   "outputs": [],
   "source": [
    "# Invert the binary image (edges)\n",
    "inverted_edges = 255 - edges\n",
    "\n",
    "# Apply distance transform\n",
    "dist_transform = cv2.distanceTransform(inverted_edges, cv2.DIST_L2, 5)\n",
    "\n",
    "good_pts = []\n",
    "# For each point, find the distance to the closest white pixel\n",
    "for i in range(len(perimeter_points)):\n",
    "    x, y = perimeter_points[i]\n",
    "    dist_to_edge = dist_transform[y, x]\n",
    "    if dist_to_edge < 25:\n",
    "        if len(good_pts) < 6:\n",
    "            good_pts.append(perimeter_points[i])\n",
    "            # perimeter_points = perimeter_points[0:i] + perimeter_points[i+1:]\n",
    "\n",
    "colors = [(0,0,255), (51, 153, 255), (0,255,255), (0,255,0), (255,0,0), (255, 0, 127)]\n",
    "for i in range(len(good_pts)):\n",
    "    cv2.circle(test_image, (round(good_pts[i][0]), round(good_pts[i][1])), 5, colors[i], -1)\n",
    "showImage(test_image)"
   ]
  },
  {
   "cell_type": "code",
   "execution_count": 133,
   "metadata": {},
   "outputs": [
    {
     "name": "stdout",
     "output_type": "stream",
     "text": [
      "6 6\n",
      "coord: (535, 159) | color: red\n",
      "coord: (97, 336) | color: orange\n",
      "coord: (522, 906) | color: yellow\n",
      "coord: (84, 711) | color: green\n",
      "coord: (955, 346) | color: blue\n",
      "coord: (968, 716) | color: purple\n"
     ]
    }
   ],
   "source": [
    "str_colors = [\"red\", \"orange\", \"yellow\", \"green\", \"blue\", \"purple\"]\n",
    "print(len(good_pts), len(str_colors))\n",
    "for i in range(len(good_pts)):\n",
    "    print(f\"coord: {good_pts[i]} | color: {str_colors[i]}\")"
   ]
  },
  {
   "cell_type": "code",
   "execution_count": 134,
   "metadata": {},
   "outputs": [
    {
     "data": {
      "text/plain": [
       "(1052, 1052, 3)"
      ]
     },
     "execution_count": 134,
     "metadata": {},
     "output_type": "execute_result"
    }
   ],
   "source": [
    "test_image.shape"
   ]
  },
  {
   "cell_type": "markdown",
   "metadata": {},
   "source": [
    "### Order the points via angle from the centroid"
   ]
  },
  {
   "cell_type": "code",
   "execution_count": 135,
   "metadata": {},
   "outputs": [],
   "source": [
    "centroid = np.mean(good_pts, axis=0)\n",
    "sorted_points = sorted(good_pts, key=lambda point: np.arctan2(point[1] - centroid[1], point[0] - centroid[0]))\n",
    "for i, point in enumerate(sorted_points):\n",
    "    pass\n",
    "    # cv2.circle(test_image, point, 20, colors[i], -1)\n",
    "\n",
    "# showImage(test_image)\n"
   ]
  },
  {
   "cell_type": "code",
   "execution_count": 136,
   "metadata": {},
   "outputs": [
    {
     "data": {
      "text/plain": [
       "(1052, 1052, 3)"
      ]
     },
     "execution_count": 136,
     "metadata": {},
     "output_type": "execute_result"
    }
   ],
   "source": [
    "test_image.shape"
   ]
  },
  {
   "cell_type": "markdown",
   "metadata": {},
   "source": [
    "# Perform Homography on the image to get a top down view"
   ]
  },
  {
   "cell_type": "code",
   "execution_count": 137,
   "metadata": {},
   "outputs": [
    {
     "data": {
      "text/plain": [
       "[(97, 336), (535, 159), (955, 346), (968, 716), (522, 906), (84, 711)]"
      ]
     },
     "execution_count": 137,
     "metadata": {},
     "output_type": "execute_result"
    }
   ],
   "source": [
    "sorted_points"
   ]
  },
  {
   "cell_type": "markdown",
   "metadata": {},
   "source": [
    "## The source points are the perimiter points that have been previously found"
   ]
  },
  {
   "cell_type": "code",
   "execution_count": 138,
   "metadata": {},
   "outputs": [],
   "source": [
    "src_points = np.array(sorted_points)"
   ]
  },
  {
   "cell_type": "markdown",
   "metadata": {},
   "source": [
    "## The destination points are just a correctly oriented hexagon within the 1052x1052 bounds of the image\n",
    "\n",
    "Things that need to be done to get these points:\n",
    "* calculate the center of the ideal image\n",
    "* make sure the orientation is correct (might need to be rotated 90 degrees)\n",
    "* init the rotation matrix\n",
    "* find the points of a hexagon in a space of the image's dimensions\n",
    "    * `np.array([(center[0] + R * np.cos(2 * np.pi / 6 * i), center[1] + R * np.sin(2 * np.pi / 6 * i)) for i in range(6)])`\n",
    "* add these found *ideal* points to a new list in the correct format\n",
    "* make sure `dst_points` and `src_points` are numpy arrays for `cv2.findHomography()`\n",
    "* use `cv2.findHomography()` to calculate the rotation matrix\n",
    "* use `cv2.warpHomography()` with the src and dst points to get the top-down image of a catan board"
   ]
  },
  {
   "cell_type": "code",
   "execution_count": 139,
   "metadata": {},
   "outputs": [],
   "source": [
    "# Center of an ideal image\n",
    "R = 526\n",
    "center = np.array([R, R])"
   ]
  },
  {
   "cell_type": "code",
   "execution_count": 140,
   "metadata": {},
   "outputs": [],
   "source": [
    "# Angle of rotation (this method finds points rotated 90 degrees from where we want them)\n",
    "rotate = True\n",
    "theta = np.pi / 2"
   ]
  },
  {
   "cell_type": "code",
   "execution_count": 141,
   "metadata": {},
   "outputs": [
    {
     "data": {
      "text/plain": [
       "array([[ 6.123234e-17, -1.000000e+00],\n",
       "       [ 1.000000e+00,  6.123234e-17]])"
      ]
     },
     "execution_count": 141,
     "metadata": {},
     "output_type": "execute_result"
    }
   ],
   "source": [
    "# Init the rotation matrix\n",
    "rotation_matrix = np.array([[np.cos(theta), -np.sin(theta)],\n",
    "                            [np.sin(theta), np.cos(theta)]])\n",
    "rotation_matrix"
   ]
  },
  {
   "cell_type": "code",
   "execution_count": 142,
   "metadata": {},
   "outputs": [
    {
     "data": {
      "text/plain": [
       "array([[1052.        ,  526.        ],\n",
       "       [ 789.        ,  981.52936239],\n",
       "       [ 263.        ,  981.52936239],\n",
       "       [   0.        ,  526.        ],\n",
       "       [ 263.        ,   70.47063761],\n",
       "       [ 789.        ,   70.47063761]])"
      ]
     },
     "execution_count": 142,
     "metadata": {},
     "output_type": "execute_result"
    }
   ],
   "source": [
    "# Calculate the ideal points of a hexagon\n",
    "hexagon_points = np.array([(center[0] + R * np.cos(2 * np.pi / 6 * i), center[1] + R * np.sin(2 * np.pi / 6 * i)) for i in range(6)])\n",
    "hexagon_points"
   ]
  },
  {
   "cell_type": "code",
   "execution_count": 143,
   "metadata": {},
   "outputs": [
    {
     "name": "stdout",
     "output_type": "stream",
     "text": [
      "[[ 526 1052]\n",
      " [  70  789]\n",
      " [  70  263]\n",
      " [ 525    0]\n",
      " [ 981  262]\n",
      " [ 981  788]]\n"
     ]
    }
   ],
   "source": [
    "# Get these found points into the correct format\n",
    "dst_points = []\n",
    "\n",
    "for point in hexagon_points:\n",
    "    translated_point = point - center\n",
    "    rotated_point = np.dot(rotation_matrix, translated_point)\n",
    "    dst_points.append([int(rotated_point[0]+R), int(rotated_point[1]+R)])\n",
    "\n",
    "dst_points = np.array(dst_points)\n",
    "\n",
    "print(dst_points)"
   ]
  },
  {
   "cell_type": "code",
   "execution_count": 144,
   "metadata": {},
   "outputs": [
    {
     "data": {
      "text/plain": [
       "(array([[ 97, 336],\n",
       "        [535, 159],\n",
       "        [955, 346],\n",
       "        [968, 716],\n",
       "        [522, 906],\n",
       "        [ 84, 711]]),\n",
       " array([[ 526, 1052],\n",
       "        [  70,  789],\n",
       "        [  70,  263],\n",
       "        [ 525,    0],\n",
       "        [ 981,  262],\n",
       "        [ 981,  788]]))"
      ]
     },
     "execution_count": 144,
     "metadata": {},
     "output_type": "execute_result"
    }
   ],
   "source": [
    "src_points, dst_points"
   ]
  },
  {
   "cell_type": "code",
   "execution_count": 145,
   "metadata": {},
   "outputs": [],
   "source": [
    "# Compute homography matrix\n",
    "H, _ = cv2.findHomography(src_points, dst_points)\n",
    "\n",
    "# Apply homography to warp the real test_image to the ideal Catan board's perspective\n",
    "warped_image = cv2.warpPerspective(test_image, H, (1052, 1052))\n",
    "\n",
    "showImage(warped_image, \"Homographied!\")\n"
   ]
  }
 ],
 "metadata": {
  "kernelspec": {
   "display_name": "Python 3",
   "language": "python",
   "name": "python3"
  },
  "language_info": {
   "codemirror_mode": {
    "name": "ipython",
    "version": 3
   },
   "file_extension": ".py",
   "mimetype": "text/x-python",
   "name": "python",
   "nbconvert_exporter": "python",
   "pygments_lexer": "ipython3",
   "version": "3.11.7"
  }
 },
 "nbformat": 4,
 "nbformat_minor": 2
}
