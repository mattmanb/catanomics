{
 "cells": [
  {
   "cell_type": "code",
   "execution_count": null,
   "metadata": {},
   "outputs": [],
   "source": [
    "# Import neccessary libraries for corner detection\n",
    "import numpy as np\n",
    "from PIL import Image\n",
    "import cv2"
   ]
  },
  {
   "cell_type": "code",
   "execution_count": null,
   "metadata": {},
   "outputs": [],
   "source": [
    "# View the image and resize it\n",
    "imgs = []\n",
    "img = cv2.imread('./images/raw/catan00.jpg')\n",
    "imgs.append(img)\n",
    "img = cv2.imread('./images/raw/catan01.jpg')\n",
    "imgs.append(img)\n",
    "for i in range(len(imgs)):\n",
    "    imgs[i] = cv2.resize(imgs[i], (640, 640))\n"
   ]
  },
  {
   "cell_type": "code",
   "execution_count": null,
   "metadata": {},
   "outputs": [],
   "source": [
    "# Define a show image function\n",
    "def showImage(img):\n",
    "    cv2.imshow('Frame', img)\n",
    "    cv2.waitKey(0)\n",
    "    cv2.destroyAllWindows()"
   ]
  },
  {
   "cell_type": "code",
   "execution_count": null,
   "metadata": {},
   "outputs": [],
   "source": [
    "# Convert images to greyscale\n",
    "gray_imgs = []\n",
    "for i in range(len(imgs)):\n",
    "    gray_imgs.append(cv2.cvtColor(imgs[i], cv2.COLOR_BGR2GRAY))"
   ]
  },
  {
   "cell_type": "code",
   "execution_count": null,
   "metadata": {},
   "outputs": [],
   "source": [
    "# Apply thresholding and find contours\n",
    "ret, thrash = cv2.threshold(gray_imgs[0], 240, 255, cv2.CHAIN_APPROX_NONE)\n",
    "contours, _ = cv2.findContours(thrash, cv2.RETR_TREE, cv2.CHAIN_APPROX_NONE)"
   ]
  },
  {
   "cell_type": "code",
   "execution_count": 9,
   "metadata": {},
   "outputs": [],
   "source": [
    "# Iterate through the range of contours\n",
    "MAX_HEXAGONS = 19\n",
    "found_hexes = 0\n",
    "for contour in contours:\n",
    "    approx = cv2.approxPolyDP(contour, 0.01*cv2.arcLength(contour, True), True)\n",
    "    cv2.drawContours(gray_imgs[0], [approx], 0, (0,0,0), 5)\n",
    "    x = approx.ravel()[0]\n",
    "    y = approx.ravel()[1] - 5\n",
    "    if len(approx) == 6:\n",
    "        cv2.putText(gray_imgs[0], \"Hexagon\", (x, y), cv2.FONT_HERSHEY_COMPLEX, 0.5, (0,0,0))\n",
    "        found_hexes += 1\n",
    "    if found_hexes >= MAX_HEXAGONS:\n",
    "        break"
   ]
  },
  {
   "cell_type": "code",
   "execution_count": 10,
   "metadata": {},
   "outputs": [],
   "source": [
    "# Show the image and close the window\n",
    "showImage(gray_imgs[0])"
   ]
  },
  {
   "cell_type": "code",
   "execution_count": null,
   "metadata": {},
   "outputs": [],
   "source": [
    "# Apply a mask to isolate the board\n",
    "\n",
    "# HEIGHT = 25\n",
    "# SPACE_FROM_TOP = 140\n",
    "# ROW_LENGTH = len(gray_img[0])\n",
    "# COL_LENGTH = len(gray_img)\n",
    "# # Isolate the top-most corners of the image\n",
    "# for i in range(SPACE_FROM_TOP):\n",
    "#     for j in range(ROW_LENGTH):\n",
    "#         gray_img[i, j] = 0\n",
    "\n",
    "# for i in range(SPACE_FROM_TOP+HEIGHT, COL_LENGTH):\n",
    "#     for j in range(ROW_LENGTH):\n",
    "#         gray_img[i, j] = 0\n",
    "\n",
    "\n",
    "# showImage(gray_img)"
   ]
  },
  {
   "cell_type": "code",
   "execution_count": null,
   "metadata": {},
   "outputs": [],
   "source": [
    "# Detect 'N' corners using goodFeaturesToTrack\n",
    "N = 18\n",
    "for i in range(len(imgs)):\n",
    "    corners = cv2.goodFeaturesToTrack(\n",
    "        imgs[i], # Source image\n",
    "        N, # Number of corners to detect\n",
    "        0.01, # Quality of corners (minimum confidence)\n",
    "        20 # Minimum euclidian distance between corners\n",
    "    )\n",
    "    # Convert corners to integers instead of floats\n",
    "    corners = np.int0(corners)\n",
    "    # Draw corners\n",
    "    for corner in corners:\n",
    "        x, y = corner.ravel() # Flatten the array [[x, y]] -> [x, y] (torch squeeze)\n",
    "        cv2.circle(imgs[i], (x, y), 5, (255, 0, 0), -1)"
   ]
  },
  {
   "cell_type": "code",
   "execution_count": null,
   "metadata": {},
   "outputs": [],
   "source": [
    "showImage(imgs[0])\n",
    "showImage(imgs[1])"
   ]
  },
  {
   "cell_type": "code",
   "execution_count": null,
   "metadata": {},
   "outputs": [],
   "source": [
    "import torch\n",
    "torch.__version__, torch.cuda.is_available()"
   ]
  },
  {
   "cell_type": "code",
   "execution_count": null,
   "metadata": {},
   "outputs": [],
   "source": []
  }
 ],
 "metadata": {
  "kernelspec": {
   "display_name": "Python 3",
   "language": "python",
   "name": "python3"
  },
  "language_info": {
   "codemirror_mode": {
    "name": "ipython",
    "version": 3
   },
   "file_extension": ".py",
   "mimetype": "text/x-python",
   "name": "python",
   "nbconvert_exporter": "python",
   "pygments_lexer": "ipython3",
   "version": "3.11.7"
  }
 },
 "nbformat": 4,
 "nbformat_minor": 2
}
