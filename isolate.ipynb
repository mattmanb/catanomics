{
 "cells": [
  {
   "cell_type": "code",
   "execution_count": 1,
   "metadata": {},
   "outputs": [],
   "source": [
    "import cv2\n",
    "import numpy as np\n",
    "\n",
    "image = cv2.imread('./images/raw/catan00.jpg')\n",
    "image = cv2.resize(image, (0,0), fx=.25, fy=.25)\n",
    "gray = cv2.cvtColor(image, cv2.COLOR_BGR2GRAY)\n",
    "# Apply Gaussian Blur\n",
    "blurred = cv2.GaussianBlur(gray, (5,5), 0)\n",
    "# Edge detection\n",
    "edges = cv2.Canny(blurred, 75, 150)\n",
    "# Find contours\n",
    "contours, _ = cv2.findContours(edges.copy(), cv2.RETR_EXTERNAL, cv2.CHAIN_APPROX_SIMPLE)\n",
    "# Init mask\n",
    "mask = np.zeros_like(gray)\n",
    "\n",
    "# Loop through the contours to find hexagons or the board shape\n",
    "for contour in contours:\n",
    "    # Approx contour of a polygon\n",
    "    peri = cv2.arcLength(contour, True)\n",
    "    approx = cv2.approxPolyDP(contour, 0.02 * peri, True)\n",
    "\n",
    "    if len(approx) == 6:\n",
    "        cv2.drawContours(mask, [approx], -1, (255), thickness=cv2.FILLED)\n",
    "\n",
    "# Bitwise operation to only kee pthe board area\n",
    "result = cv2.bitwise_and(image, image, mask=mask)\n",
    "\n",
    "# Display the result\n",
    "cv2.imshow(\"Isolated Catan Board\", result)\n",
    "cv2.waitKey(0)\n",
    "cv2.destroyAllWindows()"
   ]
  },
  {
   "cell_type": "code",
   "execution_count": null,
   "metadata": {},
   "outputs": [],
   "source": []
  }
 ],
 "metadata": {
  "kernelspec": {
   "display_name": "Python 3",
   "language": "python",
   "name": "python3"
  },
  "language_info": {
   "codemirror_mode": {
    "name": "ipython",
    "version": 3
   },
   "file_extension": ".py",
   "mimetype": "text/x-python",
   "name": "python",
   "nbconvert_exporter": "python",
   "pygments_lexer": "ipython3",
   "version": "3.11.7"
  }
 },
 "nbformat": 4,
 "nbformat_minor": 2
}
