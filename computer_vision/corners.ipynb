{
 "cells": [
  {
   "cell_type": "code",
   "execution_count": null,
   "metadata": {},
   "outputs": [],
   "source": [
    "# Import neccessary libraries for corner detection\n",
    "import numpy as np\n",
    "from PIL import Image\n",
    "import cv2"
   ]
  },
  {
   "cell_type": "code",
   "execution_count": 12,
   "metadata": {},
   "outputs": [],
   "source": [
    "# Define a show image function\n",
    "def showImage(img):\n",
    "    cv2.imshow('Frame', img)\n",
    "    cv2.waitKey(0)\n",
    "    cv2.destroyAllWindows()"
   ]
  },
  {
   "cell_type": "code",
   "execution_count": 15,
   "metadata": {},
   "outputs": [],
   "source": [
    "# View the image and resize it\n",
    "imgs = []\n",
    "img = cv2.imread('./images/raw/catan00.jpg')\n",
    "imgs.append(img)\n",
    "img = cv2.imread('./images/raw/catan01.jpg')\n",
    "imgs.append(img)\n",
    "for i in range(len(imgs)):\n",
    "    imgs[i] = cv2.resize(imgs[i], (640, 640))\n"
   ]
  },
  {
   "cell_type": "code",
   "execution_count": 16,
   "metadata": {},
   "outputs": [],
   "source": [
    "# Convert images to greyscale\n",
    "gray_imgs = []\n",
    "for i in range(len(imgs)):\n",
    "    gray_imgs.append(cv2.cvtColor(imgs[i], cv2.COLOR_BGR2GRAY))"
   ]
  },
  {
   "cell_type": "code",
   "execution_count": 19,
   "metadata": {},
   "outputs": [],
   "source": [
    "# Apply Gaussian Blur to reduce noise\n",
    "from matplotlib import pyplot as plt\n",
    "\n",
    "kernel = np.ones((5, 5), np.float32) / 25\n",
    "for i in range(len(gray_imgs)):\n",
    "    dst = cv2.filter2D(gray_imgs[i], -1, kernel)\n"
   ]
  },
  {
   "cell_type": "code",
   "execution_count": null,
   "metadata": {},
   "outputs": [],
   "source": [
    "# Detect 'N' corners using goodFeaturesToTrack\n",
    "N = 18\n",
    "for i in range(len(imgs)):\n",
    "    corners = cv2.goodFeaturesToTrack(\n",
    "        imgs[i], # Source image\n",
    "        N, # Number of corners to detect\n",
    "        0.01, # Quality of corners (minimum confidence)\n",
    "        20 # Minimum euclidian distance between corners\n",
    "    )\n",
    "    # Convert corners to integers instead of floats\n",
    "    corners = np.int0(corners)\n",
    "    # Draw corners\n",
    "    for corner in corners:\n",
    "        x, y = corner.ravel() # Flatten the array [[x, y]] -> [x, y] (torch squeeze)\n",
    "        cv2.circle(imgs[i], (x, y), 5, (255, 0, 0), -1)"
   ]
  },
  {
   "cell_type": "code",
   "execution_count": null,
   "metadata": {},
   "outputs": [],
   "source": [
    "showImage(imgs[0])\n",
    "showImage(imgs[1])"
   ]
  },
  {
   "cell_type": "code",
   "execution_count": null,
   "metadata": {},
   "outputs": [],
   "source": [
    "import torch\n",
    "torch.__version__, torch.cuda.is_available()"
   ]
  },
  {
   "cell_type": "code",
   "execution_count": null,
   "metadata": {},
   "outputs": [],
   "source": []
  }
 ],
 "metadata": {
  "kernelspec": {
   "display_name": "Python 3",
   "language": "python",
   "name": "python3"
  },
  "language_info": {
   "codemirror_mode": {
    "name": "ipython",
    "version": 3
   },
   "file_extension": ".py",
   "mimetype": "text/x-python",
   "name": "python",
   "nbconvert_exporter": "python",
   "pygments_lexer": "ipython3",
   "version": "3.9.6"
  }
 },
 "nbformat": 4,
 "nbformat_minor": 2
}
