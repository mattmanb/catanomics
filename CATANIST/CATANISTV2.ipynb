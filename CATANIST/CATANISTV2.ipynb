{
 "cells": [
  {
   "cell_type": "code",
   "execution_count": 1,
   "metadata": {},
   "outputs": [
    {
     "name": "stderr",
     "output_type": "stream",
     "text": [
      "/Library/Frameworks/Python.framework/Versions/3.11/lib/python3.11/site-packages/tqdm/auto.py:21: TqdmWarning: IProgress not found. Please update jupyter and ipywidgets. See https://ipywidgets.readthedocs.io/en/stable/user_install.html\n",
      "  from .autonotebook import tqdm as notebook_tqdm\n"
     ]
    }
   ],
   "source": [
    "# Library includes\n",
    "import os\n",
    "import numpy as np\n",
    "import torch\n",
    "from torch import nn\n",
    "from torch.utils.data import DataLoader\n",
    "import torchvision\n",
    "from torchvision import datasets, transforms\n",
    "import random\n",
    "\n",
    "import requests\n",
    "import zipfile\n",
    "from pathlib import Path\n",
    "import tqdm\n",
    "\n",
    "# Helper functions\n",
    "\n",
    "from model_functions import *\n",
    "\n",
    "from visualize_results import *"
   ]
  },
  {
   "cell_type": "code",
   "execution_count": 2,
   "metadata": {},
   "outputs": [],
   "source": [
    "# Multi-Model Comparison Variable\n",
    "models_and_results = []"
   ]
  },
  {
   "cell_type": "code",
   "execution_count": 3,
   "metadata": {},
   "outputs": [
    {
     "name": "stdout",
     "output_type": "stream",
     "text": [
      "in walk through dir\n",
      "There are 2 directories and 1 images in ../data/CATANIST V2\n",
      "There are 11 directories and 1 images in ../data/CATANIST V2/test\n",
      "There are 0 directories and 21 images in ../data/CATANIST V2/test/eight\n",
      "There are 0 directories and 21 images in ../data/CATANIST V2/test/eleven\n",
      "There are 0 directories and 21 images in ../data/CATANIST V2/test/nine\n",
      "There are 0 directories and 21 images in ../data/CATANIST V2/test/three\n",
      "There are 0 directories and 21 images in ../data/CATANIST V2/test/ten\n",
      "There are 0 directories and 11 images in ../data/CATANIST V2/test/twelve\n",
      "There are 0 directories and 11 images in ../data/CATANIST V2/test/two\n",
      "There are 0 directories and 21 images in ../data/CATANIST V2/test/six\n",
      "There are 0 directories and 7 images in ../data/CATANIST V2/test/desert\n",
      "There are 0 directories and 21 images in ../data/CATANIST V2/test/five\n",
      "There are 0 directories and 21 images in ../data/CATANIST V2/test/four\n",
      "There are 11 directories and 1 images in ../data/CATANIST V2/train\n",
      "There are 0 directories and 201 images in ../data/CATANIST V2/train/eight\n",
      "There are 0 directories and 201 images in ../data/CATANIST V2/train/eleven\n",
      "There are 0 directories and 201 images in ../data/CATANIST V2/train/nine\n",
      "There are 0 directories and 201 images in ../data/CATANIST V2/train/three\n",
      "There are 0 directories and 201 images in ../data/CATANIST V2/train/ten\n",
      "There are 0 directories and 101 images in ../data/CATANIST V2/train/twelve\n",
      "There are 0 directories and 101 images in ../data/CATANIST V2/train/two\n",
      "There are 0 directories and 201 images in ../data/CATANIST V2/train/six\n",
      "There are 0 directories and 140 images in ../data/CATANIST V2/train/desert\n",
      "There are 0 directories and 201 images in ../data/CATANIST V2/train/five\n",
      "There are 0 directories and 201 images in ../data/CATANIST V2/train/four\n"
     ]
    }
   ],
   "source": [
    "# Examine \n",
    "def walk_through_dir(dir_path):\n",
    "    print(\"in walk through dir\")\n",
    "    \"\"\"Walks through dir_path, returning its contents\"\"\"\n",
    "    for dirpath, dirnames, filenames in os.walk(dir_path):\n",
    "        print(f\"There are {len(dirnames)} directories and {len(filenames)} images in {dirpath}\")\n",
    "\n",
    "data_path = Path(\"../data\")\n",
    "image_path = data_path / \"CATANIST V2/\"\n",
    "walk_through_dir(image_path)"
   ]
  },
  {
   "cell_type": "code",
   "execution_count": 4,
   "metadata": {},
   "outputs": [
    {
     "data": {
      "text/plain": [
       "(PosixPath('../data/CATANIST V2/train'), PosixPath('../data/CATANIST V2/test'))"
      ]
     },
     "execution_count": 4,
     "metadata": {},
     "output_type": "execute_result"
    }
   ],
   "source": [
    "train_dir = image_path / \"train\"\n",
    "test_dir = image_path / \"test\"\n",
    "\n",
    "train_dir, test_dir"
   ]
  },
  {
   "cell_type": "code",
   "execution_count": 5,
   "metadata": {},
   "outputs": [
    {
     "name": "stderr",
     "output_type": "stream",
     "text": [
      "/Library/Frameworks/Python.framework/Versions/3.11/lib/python3.11/site-packages/torchvision/transforms/v2/_deprecated.py:41: UserWarning: The transform `ToTensor()` is deprecated and will be removed in a future release. Instead, please use `v2.Compose([v2.ToImage(), v2.ToDtype(torch.float32, scale=True)])`.\n",
      "  warnings.warn(\n"
     ]
    }
   ],
   "source": [
    "from torchvision.transforms import v2, transforms\n",
    "\n",
    "train_data_transform = v2.Compose([\n",
    "    v2.Resize(size=(64, 64)),\n",
    "    v2.Grayscale(num_output_channels=3),\n",
    "    v2.RandomAffine(degrees=180,translate=(0.1, 0.1),interpolation=transforms.InterpolationMode.BILINEAR),\n",
    "    v2.RandomApply([transforms.GaussianBlur(kernel_size=17, sigma=(0.5, 2.0))], p=.6),\n",
    "    # Turn the image into a torch tensor\n",
    "    v2.ToTensor(),\n",
    "])\n",
    "\n",
    "test_data_transform = v2.Compose([\n",
    "    v2.Resize(size=(64, 64)),\n",
    "    v2.Grayscale(num_output_channels=3),\n",
    "    # v2.RandomApply([transforms.GaussianBlur(kernel_size=17, sigma=(0.5, 2))], p=.8),\n",
    "    # Turn the image into a torch tensor\n",
    "    v2.ToTensor(),\n",
    "])"
   ]
  },
  {
   "cell_type": "code",
   "execution_count": 6,
   "metadata": {},
   "outputs": [
    {
     "data": {
      "text/plain": [
       "(1940,\n",
       " 186,\n",
       " ['desert',\n",
       "  'eight',\n",
       "  'eleven',\n",
       "  'five',\n",
       "  'four',\n",
       "  'nine',\n",
       "  'six',\n",
       "  'ten',\n",
       "  'three',\n",
       "  'twelve',\n",
       "  'two'])"
      ]
     },
     "execution_count": 6,
     "metadata": {},
     "output_type": "execute_result"
    }
   ],
   "source": [
    "from torchvision import datasets\n",
    "\n",
    "train_data = datasets.ImageFolder(root=train_dir,\n",
    "                                  transform=train_data_transform,\n",
    "                                  target_transform=None)\n",
    "test_data = datasets.ImageFolder(root=test_dir,\n",
    "                                 transform=test_data_transform,\n",
    "                                 target_transform=None)\n",
    "class_names = train_data.classes\n",
    "\n",
    "len(train_data), len(test_data), class_names"
   ]
  },
  {
   "cell_type": "code",
   "execution_count": 8,
   "metadata": {},
   "outputs": [
    {
     "data": {
      "image/png": "[encoded data removed]",
      "text/plain": [
       "<Figure size 1600x800 with 5 Axes>"
      ]
     },
     "metadata": {},
     "output_type": "display_data"
    }
   ],
   "source": [
    "display_random_images(dataset=train_data,\n",
    "                      classes=class_names,\n",
    "                      n=5,\n",
    "                      display_shape=False)"
   ]
  },
  {
   "cell_type": "code",
   "execution_count": 68,
   "metadata": {},
   "outputs": [
    {
     "data": {
      "text/plain": [
       "(<torch.utils.data.dataloader.DataLoader at 0x16e9ba590>,\n",
       " <torch.utils.data.dataloader.DataLoader at 0x16df1a250>)"
      ]
     },
     "execution_count": 68,
     "metadata": {},
     "output_type": "execute_result"
    }
   ],
   "source": [
    "from torch.utils.data import DataLoader\n",
    "BATCH_SIZE = 32\n",
    "\n",
    "train_dataloader = DataLoader(dataset=train_data,\n",
    "                              batch_size=BATCH_SIZE,\n",
    "                              shuffle=True)\n",
    "test_dataloader = DataLoader(dataset=test_data,\n",
    "                              batch_size=BATCH_SIZE,\n",
    "                              shuffle=False)\n",
    "train_dataloader, test_dataloader"
   ]
  },
  {
   "cell_type": "code",
   "execution_count": 69,
   "metadata": {},
   "outputs": [
    {
     "data": {
      "text/plain": [
       "'mps'"
      ]
     },
     "execution_count": 69,
     "metadata": {},
     "output_type": "execute_result"
    }
   ],
   "source": [
    "device = (\"cuda\" if torch.cuda.is_available()\n",
    "        else \"mps\" if torch.backends.mps.is_available()\n",
    "        else \"cpu\"\n",
    "    )\n",
    "device"
   ]
  },
  {
   "cell_type": "markdown",
   "metadata": {},
   "source": [
    "# ResNet Model"
   ]
  },
  {
   "cell_type": "code",
   "execution_count": 70,
   "metadata": {},
   "outputs": [],
   "source": [
    "class BasicBlock(nn.Module):\n",
    "    def __init__(self, input_shape: int, output_shape:int, stride=1) -> None:\n",
    "        super(BasicBlock, self).__init__()\n",
    "        # Conv layer 1\n",
    "        self.conv1 = nn.Conv2d(input_shape, \n",
    "                               output_shape, \n",
    "                               kernel_size=3,\n",
    "                               stride=stride,\n",
    "                               padding=1,\n",
    "                               bias=False)\n",
    "        # Batch norm 1\n",
    "        self.bn1 = nn.BatchNorm2d(output_shape)\n",
    "        # Activation\n",
    "        self.relu = nn.ReLU(inplace=True)\n",
    "        \n",
    "        # Conv layer 2\n",
    "        self.conv2 = nn.Conv2d(output_shape, \n",
    "                               output_shape,\n",
    "                               kernel_size=3,\n",
    "                               stride=1,\n",
    "                               padding=1,\n",
    "                               bias=False)\n",
    "        # Batch norm 2\n",
    "        self.bn2 = nn.BatchNorm2d(output_shape)\n",
    "        \n",
    "        # Account for differences in stride length if not 1 & num filters\n",
    "        self.downsample = nn.Sequential()\n",
    "        if stride != 1 or input_shape != output_shape:\n",
    "            self.downsample = nn.Sequential(\n",
    "                nn.Conv2d(input_shape, output_shape,\n",
    "                          kernel_size=1, stride=stride,\n",
    "                          bias=False),\n",
    "                nn.BatchNorm2d(output_shape)\n",
    "            )\n",
    "    def forward(self, x):\n",
    "        identity = x\n",
    "        logits = self.conv1(x)\n",
    "        logits = self.bn1(logits)\n",
    "        logits = self.relu(logits)\n",
    "        logits = self.conv2(logits)\n",
    "        logits = self.bn2(logits)\n",
    "        logits += self.downsample(identity)\n",
    "        logits = self.relu(logits)\n",
    "        return logits"
   ]
  },
  {
   "cell_type": "code",
   "execution_count": 71,
   "metadata": {},
   "outputs": [],
   "source": [
    "class ResNet(nn.Module):\n",
    "    def __init__(self, input_shape, block, layers, class_cnt):\n",
    "        super(ResNet, self).__init__()\n",
    "        self.num_classes = class_cnt\n",
    "        self.in_channels = 64\n",
    "        self.conv1 = nn.Conv2d(in_channels=input_shape, \n",
    "                               out_channels=64, \n",
    "                               kernel_size=3, \n",
    "                               stride=1, \n",
    "                               padding=1, \n",
    "                               bias=False)\n",
    "        self.bn1 = nn.BatchNorm2d(64)\n",
    "        self.relu = nn.ReLU(inplace=True)\n",
    "        # Create 3 'blocks'\n",
    "        self.block1 = self.make_layer(block, 64, layers[0], stride=1)\n",
    "        self.block2 = self.make_layer(block, 128, layers[1], stride=2)\n",
    "        self.block3 = self.make_layer(block, 256, layers[2], stride=2)\n",
    "        # Average pooling\n",
    "        self.avg_pool = nn.AdaptiveAvgPool2d((1, 1))\n",
    "        # Fully connected layer\n",
    "        self.fc = nn.Linear(256, class_cnt)\n",
    "    def make_layer(self, block, output_shape, blocks, stride):\n",
    "        layers = []\n",
    "        layers.append(block(self.in_channels, output_shape, stride))\n",
    "        self.in_channels = output_shape\n",
    "        for _ in range(1, blocks):\n",
    "            layers.append(block(output_shape, output_shape, stride=1))\n",
    "        return nn.Sequential(*layers)\n",
    "    def forward(self, x):\n",
    "        logits = self.conv1(x)\n",
    "        # print(f\"x shape after conv block 1: {x.shape}\")\n",
    "        logits = self.bn1(logits)\n",
    "        # print(f\"x shape after batch norm 1: {x.shape}\")\n",
    "        logits = self.relu(logits)\n",
    "        logits = self.block1(logits)\n",
    "        # print(f\"x shape after res block 1: {x.shape}\")\n",
    "        logits = self.block2(logits)\n",
    "        # print(f\"x shape after res block 2: {x.shape}\")\n",
    "        logits = self.block3(logits)\n",
    "        # print(f\"x shape after res block 3: {x.shape}\")\n",
    "        logits = self.avg_pool(logits)\n",
    "        logits = logits.view(logits.size(0), -1)\n",
    "        logits = self.fc(logits)\n",
    "        return logits"
   ]
  },
  {
   "cell_type": "code",
   "execution_count": 72,
   "metadata": {},
   "outputs": [],
   "source": [
    "model = ResNet(input_shape=3, \n",
    "               block=BasicBlock,\n",
    "               layers=[2, 2, 2],\n",
    "               class_cnt=len(class_names)).to(device)"
   ]
  },
  {
   "cell_type": "markdown",
   "metadata": {},
   "source": [
    "## Test Image"
   ]
  },
  {
   "cell_type": "code",
   "execution_count": 73,
   "metadata": {},
   "outputs": [
    {
     "data": {
      "text/plain": [
       "tensor([[-0.0526,  0.0906,  0.1590, -0.1714,  0.4304, -0.6725,  0.5683, -0.2178,\n",
       "          0.3974,  0.1504, -0.0799],\n",
       "        [-0.0960,  0.0422,  0.1505, -0.1450,  0.4286, -0.6257,  0.5628, -0.2520,\n",
       "          0.3535,  0.1803, -0.1529],\n",
       "        [-0.0124,  0.1192,  0.1912, -0.1161,  0.4376, -0.6565,  0.5209, -0.2424,\n",
       "          0.3313,  0.2211, -0.0342],\n",
       "        [-0.0278,  0.0616,  0.1727, -0.2172,  0.4702, -0.7135,  0.5164, -0.2151,\n",
       "          0.3095,  0.1412, -0.0537],\n",
       "        [-0.1967,  0.1074,  0.2391, -0.0764,  0.4069, -0.6371,  0.5224, -0.3085,\n",
       "          0.3450,  0.2057, -0.2246],\n",
       "        [-0.1707,  0.1215,  0.2692, -0.0052,  0.4767, -0.5966,  0.5600, -0.2756,\n",
       "          0.3547,  0.1650, -0.2771],\n",
       "        [-0.1572,  0.0669,  0.4649, -0.8425,  0.8283, -0.9346,  0.8564, -0.2916,\n",
       "          0.7281,  0.0450,  0.0668],\n",
       "        [ 0.0152,  0.0398,  0.3802, -0.2877,  0.5357, -0.7467,  0.6978, -0.2434,\n",
       "          0.4075,  0.2627,  0.0320],\n",
       "        [-0.1181,  0.0796,  0.3445, -0.7035,  0.7980, -0.7845,  0.8071, -0.2473,\n",
       "          0.6759,  0.1988,  0.1643],\n",
       "        [-0.0394,  0.0447,  0.4838, -0.3799,  0.5450, -0.7511,  0.7165, -0.2477,\n",
       "          0.4455,  0.2091,  0.0033],\n",
       "        [-0.0929,  0.1567,  0.4997, -0.4283,  0.5411, -0.7502,  0.6863, -0.3438,\n",
       "          0.4621,  0.2346, -0.0777],\n",
       "        [-0.0958,  0.1620,  0.4944, -0.6832,  0.7280, -0.7881,  0.7815, -0.2740,\n",
       "          0.5849,  0.2201,  0.1062],\n",
       "        [ 0.0023,  0.0505,  0.3769, -0.3818,  0.5856, -0.7597,  0.6502, -0.2130,\n",
       "          0.4403,  0.2335,  0.0882],\n",
       "        [-0.0355,  0.0778,  0.4341, -0.2252,  0.6005, -0.6524,  0.7543, -0.2169,\n",
       "          0.4455,  0.2163,  0.0584],\n",
       "        [-0.0967,  0.1720,  0.3779, -0.5763,  0.7084, -0.7638,  0.7522, -0.2485,\n",
       "          0.5785,  0.1437,  0.0575],\n",
       "        [-0.0036,  0.0942,  0.5183, -0.4197,  0.4900, -0.7689,  0.7094, -0.3541,\n",
       "          0.4628,  0.2119,  0.0524],\n",
       "        [-0.0983,  0.0253,  0.4254, -0.5915,  0.6192, -0.7618,  0.7680, -0.2724,\n",
       "          0.5344,  0.2239,  0.0741],\n",
       "        [-0.0830,  0.0726,  0.4280, -0.4639,  0.5307, -0.8022,  0.6448, -0.2757,\n",
       "          0.4874,  0.2118,  0.0942],\n",
       "        [-0.0475,  0.1005,  0.3613, -0.5065,  0.6643, -0.6605,  0.7095, -0.2511,\n",
       "          0.5140,  0.2236,  0.1018],\n",
       "        [-0.1258,  0.0703,  0.4142, -0.5324,  0.6568, -0.8131,  0.7330, -0.3292,\n",
       "          0.5697,  0.1957,  0.0722],\n",
       "        [-0.0319,  0.0951,  0.4635, -0.5197,  0.6266, -0.8383,  0.7292, -0.3014,\n",
       "          0.4901,  0.2773,  0.0945],\n",
       "        [-0.0491,  0.1519,  0.3924, -0.6406,  0.7843, -0.8253,  0.8450, -0.2447,\n",
       "          0.6447,  0.1769,  0.1858],\n",
       "        [-0.1137,  0.1461,  0.3123, -0.7851,  0.9097, -0.7994,  0.8867, -0.2611,\n",
       "          0.7770,  0.1404,  0.1142],\n",
       "        [-0.0867,  0.1044,  0.3894, -0.7405,  0.8090, -0.8100,  0.8114, -0.2986,\n",
       "          0.7824,  0.1626,  0.1805],\n",
       "        [-0.0199,  0.1210,  0.4042, -0.4381,  0.6210, -0.7222,  0.6807, -0.2002,\n",
       "          0.5050,  0.3304,  0.1032],\n",
       "        [-0.0366,  0.0954,  0.3790, -0.3309,  0.5992, -0.7272,  0.6721, -0.2421,\n",
       "          0.4635,  0.2087,  0.0166],\n",
       "        [-0.1291,  0.1367,  0.4606, -0.9082,  0.8113, -0.8860,  0.9677, -0.2756,\n",
       "          0.8271,  0.1265,  0.1526],\n",
       "        [-0.2074,  0.2770,  0.3300, -1.0949,  1.0179, -0.9392,  1.0924, -0.2482,\n",
       "          1.0476,  0.0033,  0.1544],\n",
       "        [-0.0088,  0.0777,  0.3753, -0.4939,  0.6230, -0.8228,  0.7748, -0.3149,\n",
       "          0.5623,  0.2769,  0.1537],\n",
       "        [-0.1532,  0.1495,  0.4067, -0.8240,  0.8099, -0.8630,  0.9275, -0.3050,\n",
       "          0.7500,  0.1897,  0.1222],\n",
       "        [-0.1182,  0.1696,  0.4627, -0.6349,  0.7183, -0.8558,  0.8588, -0.2710,\n",
       "          0.6043,  0.2859,  0.1453],\n",
       "        [-0.2077,  0.1626,  0.5323, -0.6130,  0.7113, -0.8458,  0.8403, -0.3242,\n",
       "          0.5960,  0.1726,  0.0040]], device='mps:0',\n",
       "       grad_fn=<LinearBackward0>)"
      ]
     },
     "execution_count": 73,
     "metadata": {},
     "output_type": "execute_result"
    }
   ],
   "source": [
    "# Get a single image batch\n",
    "image_batch, label_batch = next(iter(test_dataloader))\n",
    "image_batch.shape, label_batch.shape\n",
    "model(image_batch.to(device))"
   ]
  },
  {
   "cell_type": "code",
   "execution_count": 74,
   "metadata": {},
   "outputs": [
    {
     "data": {
      "text/plain": [
       "{'Model Name': 'ResNet',\n",
       " 'Epochs': 25,\n",
       " 'Batch Size': 32,\n",
       " 'Learning Rate': 0.001,\n",
       " 'Loss Function': CrossEntropyLoss(),\n",
       " 'Optimizer': torch.optim.adam.Adam}"
      ]
     },
     "execution_count": 74,
     "metadata": {},
     "output_type": "execute_result"
    }
   ],
   "source": [
    "# Model variables\n",
    "INPUT_SHAPE = 3\n",
    "OUTPUT_SHAPE = len(class_names)\n",
    "# Hyperparameters (Batch size is in cell 10)\n",
    "EPOCHS = 25\n",
    "LEARNING_RATE = 0.001\n",
    "LOSS_FN = nn.CrossEntropyLoss()\n",
    "optimizer = torch.optim.Adam\n",
    "\n",
    "hyperparameters = {\"Model Name\": \"ResNet\",\"Epochs\":EPOCHS, \"Batch Size\": BATCH_SIZE, \"Learning Rate\":LEARNING_RATE, \"Loss Function\": LOSS_FN, \"Optimizer\": optimizer}\n",
    "hyperparameters"
   ]
  },
  {
   "cell_type": "code",
   "execution_count": 75,
   "metadata": {},
   "outputs": [
    {
     "name": "stderr",
     "output_type": "stream",
     "text": [
      "  4%|▍         | 1/25 [00:09<03:37,  9.07s/it]"
     ]
    },
    {
     "name": "stdout",
     "output_type": "stream",
     "text": [
      "Epoch: 1 | train_loss: 1.6739 | train_acc: 0.3870 | test_loss: 7.5615 | test_acc: 0.1426\n"
     ]
    },
    {
     "name": "stderr",
     "output_type": "stream",
     "text": [
      "  8%|▊         | 2/25 [00:17<03:21,  8.76s/it]"
     ]
    },
    {
     "name": "stdout",
     "output_type": "stream",
     "text": [
      "Epoch: 2 | train_loss: 1.0033 | train_acc: 0.6748 | test_loss: 14.3788 | test_acc: 0.1354\n"
     ]
    },
    {
     "name": "stderr",
     "output_type": "stream",
     "text": [
      " 12%|█▏        | 3/25 [00:26<03:09,  8.62s/it]"
     ]
    },
    {
     "name": "stdout",
     "output_type": "stream",
     "text": [
      "Epoch: 3 | train_loss: 0.6696 | train_acc: 0.7926 | test_loss: 3.5410 | test_acc: 0.3177\n"
     ]
    },
    {
     "name": "stderr",
     "output_type": "stream",
     "text": [
      " 16%|█▌        | 4/25 [00:34<02:57,  8.45s/it]"
     ]
    },
    {
     "name": "stdout",
     "output_type": "stream",
     "text": [
      "Epoch: 4 | train_loss: 0.4127 | train_acc: 0.8876 | test_loss: 3.4074 | test_acc: 0.3958\n"
     ]
    },
    {
     "name": "stderr",
     "output_type": "stream",
     "text": [
      " 20%|██        | 5/25 [00:42<02:47,  8.38s/it]"
     ]
    },
    {
     "name": "stdout",
     "output_type": "stream",
     "text": [
      "Epoch: 5 | train_loss: 0.3284 | train_acc: 0.9131 | test_loss: 2.9030 | test_acc: 0.2760\n"
     ]
    },
    {
     "name": "stderr",
     "output_type": "stream",
     "text": [
      " 24%|██▍       | 6/25 [00:50<02:38,  8.34s/it]"
     ]
    },
    {
     "name": "stdout",
     "output_type": "stream",
     "text": [
      "Epoch: 6 | train_loss: 0.2259 | train_acc: 0.9474 | test_loss: 8.5008 | test_acc: 0.1771\n"
     ]
    },
    {
     "name": "stderr",
     "output_type": "stream",
     "text": [
      " 28%|██▊       | 7/25 [00:58<02:29,  8.29s/it]"
     ]
    },
    {
     "name": "stdout",
     "output_type": "stream",
     "text": [
      "Epoch: 7 | train_loss: 0.1715 | train_acc: 0.9517 | test_loss: 2.7832 | test_acc: 0.3750\n"
     ]
    },
    {
     "name": "stderr",
     "output_type": "stream",
     "text": [
      " 32%|███▏      | 8/25 [01:07<02:20,  8.28s/it]"
     ]
    },
    {
     "name": "stdout",
     "output_type": "stream",
     "text": [
      "Epoch: 8 | train_loss: 0.1252 | train_acc: 0.9723 | test_loss: 2.0942 | test_acc: 0.5312\n"
     ]
    },
    {
     "name": "stderr",
     "output_type": "stream",
     "text": [
      " 36%|███▌      | 9/25 [01:15<02:12,  8.27s/it]"
     ]
    },
    {
     "name": "stdout",
     "output_type": "stream",
     "text": [
      "Epoch: 9 | train_loss: 0.0907 | train_acc: 0.9756 | test_loss: 7.4743 | test_acc: 0.4010\n"
     ]
    },
    {
     "name": "stderr",
     "output_type": "stream",
     "text": [
      " 40%|████      | 10/25 [01:23<02:04,  8.27s/it]"
     ]
    },
    {
     "name": "stdout",
     "output_type": "stream",
     "text": [
      "Epoch: 10 | train_loss: 0.0620 | train_acc: 0.9923 | test_loss: 7.1769 | test_acc: 0.2656\n"
     ]
    },
    {
     "name": "stderr",
     "output_type": "stream",
     "text": [
      " 44%|████▍     | 11/25 [01:32<01:55,  8.28s/it]"
     ]
    },
    {
     "name": "stdout",
     "output_type": "stream",
     "text": [
      "Epoch: 11 | train_loss: 0.0982 | train_acc: 0.9775 | test_loss: 0.4427 | test_acc: 0.8782\n"
     ]
    },
    {
     "name": "stderr",
     "output_type": "stream",
     "text": [
      " 48%|████▊     | 12/25 [01:40<01:47,  8.26s/it]"
     ]
    },
    {
     "name": "stdout",
     "output_type": "stream",
     "text": [
      "Epoch: 12 | train_loss: 0.0716 | train_acc: 0.9851 | test_loss: 1.1768 | test_acc: 0.5905\n"
     ]
    },
    {
     "name": "stderr",
     "output_type": "stream",
     "text": [
      " 52%|█████▏    | 13/25 [01:48<01:39,  8.25s/it]"
     ]
    },
    {
     "name": "stdout",
     "output_type": "stream",
     "text": [
      "Epoch: 13 | train_loss: 0.0570 | train_acc: 0.9862 | test_loss: 2.0832 | test_acc: 0.5397\n"
     ]
    },
    {
     "name": "stderr",
     "output_type": "stream",
     "text": [
      " 56%|█████▌    | 14/25 [01:56<01:30,  8.26s/it]"
     ]
    },
    {
     "name": "stdout",
     "output_type": "stream",
     "text": [
      "Epoch: 14 | train_loss: 0.0369 | train_acc: 0.9927 | test_loss: 4.7838 | test_acc: 0.3177\n"
     ]
    },
    {
     "name": "stderr",
     "output_type": "stream",
     "text": [
      " 60%|██████    | 15/25 [02:05<01:22,  8.27s/it]"
     ]
    },
    {
     "name": "stdout",
     "output_type": "stream",
     "text": [
      "Epoch: 15 | train_loss: 0.0794 | train_acc: 0.9810 | test_loss: 4.2552 | test_acc: 0.3229\n"
     ]
    },
    {
     "name": "stderr",
     "output_type": "stream",
     "text": [
      " 64%|██████▍   | 16/25 [02:13<01:14,  8.27s/it]"
     ]
    },
    {
     "name": "stdout",
     "output_type": "stream",
     "text": [
      "Epoch: 16 | train_loss: 0.0529 | train_acc: 0.9877 | test_loss: 0.8911 | test_acc: 0.8077\n"
     ]
    },
    {
     "name": "stderr",
     "output_type": "stream",
     "text": [
      " 68%|██████▊   | 17/25 [02:21<01:06,  8.27s/it]"
     ]
    },
    {
     "name": "stdout",
     "output_type": "stream",
     "text": [
      "Epoch: 17 | train_loss: 0.0344 | train_acc: 0.9923 | test_loss: 0.1810 | test_acc: 0.9635\n"
     ]
    },
    {
     "name": "stderr",
     "output_type": "stream",
     "text": [
      " 72%|███████▏  | 18/25 [02:29<00:57,  8.27s/it]"
     ]
    },
    {
     "name": "stdout",
     "output_type": "stream",
     "text": [
      "Epoch: 18 | train_loss: 0.0829 | train_acc: 0.9769 | test_loss: 3.8143 | test_acc: 0.4271\n"
     ]
    },
    {
     "name": "stderr",
     "output_type": "stream",
     "text": [
      " 76%|███████▌  | 19/25 [08:53<12:06, 121.04s/it]"
     ]
    },
    {
     "name": "stdout",
     "output_type": "stream",
     "text": [
      "Epoch: 19 | train_loss: 0.0736 | train_acc: 0.9810 | test_loss: 10.7828 | test_acc: 0.2760\n"
     ]
    },
    {
     "name": "stderr",
     "output_type": "stream",
     "text": [
      " 80%|████████  | 20/25 [13:13<13:34, 162.88s/it]"
     ]
    },
    {
     "name": "stdout",
     "output_type": "stream",
     "text": [
      "Epoch: 20 | train_loss: 0.0341 | train_acc: 0.9939 | test_loss: 0.2864 | test_acc: 0.9235\n"
     ]
    },
    {
     "name": "stderr",
     "output_type": "stream",
     "text": [
      " 84%|████████▍ | 21/25 [13:40<08:08, 122.01s/it]"
     ]
    },
    {
     "name": "stdout",
     "output_type": "stream",
     "text": [
      "Epoch: 21 | train_loss: 0.0116 | train_acc: 1.0000 | test_loss: 0.0052 | test_acc: 1.0000\n"
     ]
    },
    {
     "name": "stderr",
     "output_type": "stream",
     "text": [
      " 88%|████████▊ | 22/25 [13:49<04:24, 88.04s/it] "
     ]
    },
    {
     "name": "stdout",
     "output_type": "stream",
     "text": [
      "Epoch: 22 | train_loss: 0.0172 | train_acc: 0.9964 | test_loss: 2.3467 | test_acc: 0.5036\n"
     ]
    },
    {
     "name": "stderr",
     "output_type": "stream",
     "text": [
      " 92%|█████████▏| 23/25 [13:57<02:08, 64.13s/it]"
     ]
    },
    {
     "name": "stdout",
     "output_type": "stream",
     "text": [
      "Epoch: 23 | train_loss: 0.0066 | train_acc: 1.0000 | test_loss: 0.0190 | test_acc: 0.9936\n"
     ]
    },
    {
     "name": "stderr",
     "output_type": "stream",
     "text": [
      " 96%|█████████▌| 24/25 [14:06<00:47, 47.40s/it]"
     ]
    },
    {
     "name": "stdout",
     "output_type": "stream",
     "text": [
      "Epoch: 24 | train_loss: 0.0320 | train_acc: 0.9923 | test_loss: 0.3370 | test_acc: 0.8846\n"
     ]
    },
    {
     "name": "stderr",
     "output_type": "stream",
     "text": [
      "100%|██████████| 25/25 [14:14<00:00, 34.19s/it]"
     ]
    },
    {
     "name": "stdout",
     "output_type": "stream",
     "text": [
      "Epoch: 25 | train_loss: 0.0342 | train_acc: 0.9913 | test_loss: 0.0598 | test_acc: 0.9896\n",
      "ResNet training time: 209.861 seconds\n"
     ]
    },
    {
     "name": "stderr",
     "output_type": "stream",
     "text": [
      "\n"
     ]
    }
   ],
   "source": [
    "### Train ResNet\n",
    "model_resnet = ResNet(input_shape=INPUT_SHAPE, \n",
    "                    block=BasicBlock,\n",
    "                    layers=[2, 2, 2],\n",
    "                    class_cnt=OUTPUT_SHAPE).to(device)\n",
    "\n",
    "resnet_optimizer = optimizer(model_resnet.parameters(), lr=LEARNING_RATE)\n",
    "\n",
    "# Start the timer\n",
    "from timeit import default_timer as timer\n",
    "start_time = timer()\n",
    "\n",
    "# Train simple model\n",
    "model_resnet_results = train(model=model_resnet,\n",
    "                            train_dataloader=train_dataloader,\n",
    "                            test_dataloader=test_dataloader,\n",
    "                            optimizer=resnet_optimizer,\n",
    "                            loss_fn=LOSS_FN,\n",
    "                            epochs=EPOCHS,\n",
    "                            device=device)\n",
    "\n",
    "# End the timer\n",
    "end_time = timer()\n",
    "print(f\"ResNet training time: {end_time-start_time:.3f} seconds\")\n",
    "\n",
    "# Record results into a list of tuples where each tuple has the hyperparameter dictionary as well as the results\n",
    "models_and_results.append([hyperparameters, model_resnet_results])"
   ]
  },
  {
   "cell_type": "markdown",
   "metadata": {},
   "source": [
    "### Pre new data:\n",
    "Epoch: 25 | train_loss: 0.0145 | train_acc: 0.9991 | test_loss: 0.2460 | test_acc: 0.9167\n",
    "ResNet training time: 114.415 seconds\n",
    "### Post new data\n",
    "Epoch: 25 | train_loss: 0.0342 | train_acc: 0.9913 | test_loss: 0.0598 | test_acc: 0.9896\n",
    "### Post new data with NO GRAYSCALE\n",
    "Epoch: 25 | train_loss: 0.0519 | train_acc: 0.9877 | test_loss: 12.6069 | test_acc: 0.1114\n",
    "HORRIBLE!!!!"
   ]
  },
  {
   "cell_type": "code",
   "execution_count": 83,
   "metadata": {},
   "outputs": [
    {
     "data": {
      "image/png": "[encoded data removed]",
      "text/plain": [
       "<Figure size 1500x700 with 2 Axes>"
      ]
     },
     "metadata": {},
     "output_type": "display_data"
    }
   ],
   "source": [
    "plot_loss_curves(model_resnet_results)"
   ]
  },
  {
   "cell_type": "markdown",
   "metadata": {},
   "source": [
    "## Test on a custom image"
   ]
  },
  {
   "cell_type": "code",
   "execution_count": 96,
   "metadata": {},
   "outputs": [
    {
     "name": "stdout",
     "output_type": "stream",
     "text": [
      "Original shape: torch.Size([3, 60, 60])\n",
      "New shape: torch.Size([3, 64, 64])\n"
     ]
    }
   ],
   "source": [
    "custom_image_path = \"../images/eval numbers/005.jpg\"\n",
    "\n",
    "custom_image = torchvision.io.read_image(str(custom_image_path)).type(torch.float32)\n",
    "custom_image /= 255\n",
    "\n",
    "custom_image_transform = transforms.Compose([\n",
    "    transforms.Resize(size=(64, 64)),\n",
    "    transforms.Grayscale(num_output_channels=3)\n",
    "])\n",
    "\n",
    "custom_image_transformed = custom_image_transform(custom_image[:3, :, :])\n",
    "\n",
    "# Print out original shape and new shape\n",
    "print(f\"Original shape: {custom_image.shape}\")\n",
    "print(f\"New shape: {custom_image_transformed.shape}\")"
   ]
  },
  {
   "cell_type": "code",
   "execution_count": 97,
   "metadata": {},
   "outputs": [
    {
     "data": {
      "text/plain": [
       "<matplotlib.image.AxesImage at 0x2fc494590>"
      ]
     },
     "execution_count": 97,
     "metadata": {},
     "output_type": "execute_result"
    },
    {
     "data": {
      "image/png": "[encoded data removed]",
      "text/plain": [
       "<Figure size 640x480 with 1 Axes>"
      ]
     },
     "metadata": {},
     "output_type": "display_data"
    }
   ],
   "source": [
    "plt.imshow(custom_image_transformed.permute(1, 2, 0))"
   ]
  },
  {
   "cell_type": "code",
   "execution_count": 98,
   "metadata": {},
   "outputs": [
    {
     "data": {
      "text/plain": [
       "['desert',\n",
       " 'eight',\n",
       " 'eleven',\n",
       " 'five',\n",
       " 'four',\n",
       " 'nine',\n",
       " 'six',\n",
       " 'ten',\n",
       " 'three',\n",
       " 'twelve',\n",
       " 'two']"
      ]
     },
     "execution_count": 98,
     "metadata": {},
     "output_type": "execute_result"
    }
   ],
   "source": [
    "class_names"
   ]
  },
  {
   "cell_type": "code",
   "execution_count": 99,
   "metadata": {},
   "outputs": [
    {
     "name": "stdout",
     "output_type": "stream",
     "text": [
      "Prediction class: ('twelve', tensor([9], device='mps:0'))\n"
     ]
    }
   ],
   "source": [
    "model_resnet.eval()\n",
    "with torch.inference_mode():\n",
    "    custom_image_pred = model_resnet(custom_image_transformed.unsqueeze(0).to(device))\n",
    "custom_image_pred_probs = torch.softmax(custom_image_pred, dim=1)\n",
    "custom_image_pred_label = torch.argmax(custom_image_pred_probs, dim=1)\n",
    "print(f\"Prediction class: {class_names[custom_image_pred_label], custom_image_pred_label}\")"
   ]
  },
  {
   "cell_type": "markdown",
   "metadata": {},
   "source": [
    "## Save the model"
   ]
  },
  {
   "cell_type": "code",
   "execution_count": 100,
   "metadata": {},
   "outputs": [
    {
     "name": "stdout",
     "output_type": "stream",
     "text": [
      "Saving model to: models/catanistv2_3.pth\n"
     ]
    }
   ],
   "source": [
    "from pathlib import Path \n",
    "\n",
    "# Create model directory path\n",
    "MODEL_PATH = Path(\"models\")\n",
    "MODEL_PATH.mkdir(parents=True,\n",
    "                 exist_ok=True)\n",
    "\n",
    "# Create the model save path\n",
    "MODEL_NAME = \"catanistv2_3.pth\"\n",
    "MODEL_SAVE_PATH = MODEL_PATH / MODEL_NAME\n",
    "\n",
    "# Save the model's state dict\n",
    "print(f\"Saving model to: {MODEL_SAVE_PATH}\")\n",
    "torch.save(obj=model_resnet.state_dict(),\n",
    "           f=MODEL_SAVE_PATH)"
   ]
  },
  {
   "cell_type": "code",
   "execution_count": 101,
   "metadata": {},
   "outputs": [
    {
     "data": {
      "text/plain": [
       "['desert',\n",
       " 'eight',\n",
       " 'eleven',\n",
       " 'five',\n",
       " 'four',\n",
       " 'nine',\n",
       " 'six',\n",
       " 'ten',\n",
       " 'three',\n",
       " 'twelve',\n",
       " 'two']"
      ]
     },
     "execution_count": 101,
     "metadata": {},
     "output_type": "execute_result"
    }
   ],
   "source": [
    "sorted(['desert',\n",
    " 'eight',\n",
    " 'eleven',\n",
    " 'five',\n",
    " 'four',\n",
    " 'nine',\n",
    " 'six',\n",
    " 'ten',\n",
    " 'three',\n",
    " 'twelve',\n",
    " 'two'])"
   ]
  }
 ],
 "metadata": {
  "kernelspec": {
   "display_name": "Python 3",
   "language": "python",
   "name": "python3"
  },
  "language_info": {
   "codemirror_mode": {
    "name": "ipython",
    "version": 3
   },
   "file_extension": ".py",
   "mimetype": "text/x-python",
   "name": "python",
   "nbconvert_exporter": "python",
   "pygments_lexer": "ipython3",
   "version": "3.11.0"
  }
 },
 "nbformat": 4,
 "nbformat_minor": 2
}
