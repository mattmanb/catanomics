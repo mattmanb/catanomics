{
 "cells": [
  {
   "cell_type": "markdown",
   "metadata": {},
   "source": [
    "# Catanomics - Computer Vision and pre-processing\n",
    "The goal of this notebook is to read in an image of a catan board without number or settlements, and draw the board (ports not included) over the image"
   ]
  },
  {
   "cell_type": "code",
   "execution_count": 1,
   "metadata": {},
   "outputs": [],
   "source": [
    "# Import necessary libraries\n",
    "import cv2\n",
    "import numpy as np"
   ]
  },
  {
   "cell_type": "code",
   "execution_count": 2,
   "metadata": {},
   "outputs": [],
   "source": [
    "# Show image function for later use\n",
    "def showImage(img, name=None):\n",
    "    if not name:\n",
    "        cv2.imshow(\"Image display\", img)\n",
    "    else:\n",
    "        cv2.imshow(name, img)\n",
    "    cv2.waitKey(0)\n",
    "    cv2.destroyAllWindows()\n",
    "    \n",
    "# Save image function\n",
    "def saveImage(filename, img, dir):\n",
    "    # Get full path\n",
    "    full_path = f\"{dir}/{filename}\"\n",
    "    cv2.imwrite(full_path, img)\n",
    "    print(f\"Image saved to {full_path}\")"
   ]
  },
  {
   "cell_type": "markdown",
   "metadata": {},
   "source": [
    "## 1. Read in the image, detect the border, and find the max/min y point of the permiter"
   ]
  },
  {
   "cell_type": "code",
   "execution_count": 3,
   "metadata": {},
   "outputs": [
    {
     "name": "stderr",
     "output_type": "stream",
     "text": [
      "2024-02-14 18:21:53.646 Python[19928:26746141] WARNING: Secure coding is automatically enabled for restorable state! However, not on all supported macOS versions of this application. Opt-in to secure coding explicitly by implementing NSApplicationDelegate.applicationSupportsSecureRestorableState:.\n"
     ]
    }
   ],
   "source": [
    "# Read in an image\n",
    "image = cv2.imread('../images/v3/board04.jpg')\n",
    "# The input imgs are too big, so reduce to 25%\n",
    "image = cv2.resize(image, (0,0), fx=.25, fy=.25)\n",
    "showImage(image)\n",
    "og_img = image.copy()"
   ]
  },
  {
   "cell_type": "code",
   "execution_count": 4,
   "metadata": {},
   "outputs": [],
   "source": [
    "# Convert the image to hsv\n",
    "hsv_image = cv2.cvtColor(image, cv2.COLOR_BGR2HSV)"
   ]
  },
  {
   "cell_type": "code",
   "execution_count": 5,
   "metadata": {},
   "outputs": [],
   "source": [
    "# Define color bounds for the perimiter of the board\n",
    "lower_blue = np.array([100, 150, 0])\n",
    "upper_blue = np.array([140, 255, 255])\n",
    "\n",
    "# Create a binary mask where the blue regions are white, and everything else is black\n",
    "mask = cv2.inRange(hsv_image, lower_blue, upper_blue)"
   ]
  },
  {
   "cell_type": "code",
   "execution_count": 6,
   "metadata": {},
   "outputs": [],
   "source": [
    "# Bitwise AND to keep the blue parts of the image\n",
    "blue_regions = cv2.bitwise_and(image, image, mask=mask)"
   ]
  },
  {
   "cell_type": "code",
   "execution_count": 7,
   "metadata": {},
   "outputs": [],
   "source": [
    "# Perform canny edge detection on the blue_regions\n",
    "\n",
    "# Convert to grayscale\n",
    "gray_blue_region = cv2.cvtColor(blue_regions, cv2.COLOR_BGR2GRAY)\n",
    "# Apply Gaussian Blur\n",
    "blurred_blue_regions = cv2.GaussianBlur(gray_blue_region, (5,5), 0)\n",
    "# Canny edge detection\n",
    "edges = cv2.Canny(blurred_blue_regions, 50, 150)\n",
    "# Show the result\n",
    "showImage(edges, \"Edges in blue regions\")"
   ]
  },
  {
   "cell_type": "markdown",
   "metadata": {},
   "source": [
    "## 2. Perform Hough Transform on the images"
   ]
  },
  {
   "cell_type": "code",
   "execution_count": 8,
   "metadata": {},
   "outputs": [
    {
     "name": "stdout",
     "output_type": "stream",
     "text": [
      "Trying threshold 200 | Got 2 lines.\n",
      "Trying threshold 195 | Got 2 lines.\n",
      "Trying threshold 190 | Got 2 lines.\n",
      "Trying threshold 185 | Got 2 lines.\n",
      "Trying threshold 180 | Got 3 lines.\n",
      "Trying threshold 175 | Got 4 lines.\n",
      "Trying threshold 170 | Got 4 lines.\n",
      "Trying threshold 165 | Got 4 lines.\n",
      "Trying threshold 160 | Got 5 lines.\n",
      "Trying threshold 155 | Got 6 lines.\n",
      "Trying threshold 150 | Got 7 lines.\n",
      "Trying threshold 145 | Got 8 lines.\n",
      "Trying threshold 140 | Got 8 lines.\n",
      "Trying threshold 135 | Got 9 lines.\n",
      "Trying threshold 130 | Got 9 lines.\n",
      "Trying threshold 125 | Got 9 lines.\n",
      "Trying threshold 120 | Got 9 lines.\n",
      "Trying threshold 115 | Got 9 lines.\n",
      "Trying threshold 110 | Got 10 lines.\n",
      "Results: 110 threshold | 10 lines\n"
     ]
    }
   ],
   "source": [
    "# Perform Hough Transform using `HoughLines`\n",
    "lines = []\n",
    "thresh = 200\n",
    "while len(lines) < 10:\n",
    "    lines = cv2.HoughLines(edges, 1, np.pi / 180, thresh)\n",
    "    print(f\"Trying threshold {thresh} | Got {len(lines)} lines.\")\n",
    "    if len(lines) >= 10:\n",
    "        break\n",
    "    else:\n",
    "        thresh -= 5\n",
    "\n",
    "print(f\"Results: {thresh} threshold | {len(lines)} lines\")"
   ]
  },
  {
   "cell_type": "code",
   "execution_count": 9,
   "metadata": {},
   "outputs": [
    {
     "name": "stdout",
     "output_type": "stream",
     "text": [
      "Image saved to ../images/perimiter/v1/perimiter00.jpg\n"
     ]
    }
   ],
   "source": [
    "# Draw lines on the image\n",
    "for line in lines:\n",
    "    rho, theta = line[0]\n",
    "    a = np.cos(theta)\n",
    "    b = np.sin(theta)\n",
    "    x0 = a * rho\n",
    "    y0 = b * rho\n",
    "    x1 = int(x0 + 1000 * (-b))\n",
    "    y1 = int(y0 + 1000 * (a))\n",
    "    x2 = int(x0 - 1000 * (-b))\n",
    "    y2 = int(y0 - 1000 * (a))\n",
    "    cv2.line(image, (x1, y1), (x2, y2), (0, 0, 255), 2)\n",
    "    \n",
    "showImage(image)\n",
    "saveImage(\"perimiter00.jpg\", image, \"../images/perimiter/v1\")"
   ]
  },
  {
   "cell_type": "code",
   "execution_count": 10,
   "metadata": {},
   "outputs": [
    {
     "name": "stdout",
     "output_type": "stream",
     "text": [
      "875.0\n"
     ]
    }
   ],
   "source": [
    "print(lines[0, 0, 0])"
   ]
  },
  {
   "cell_type": "code",
   "execution_count": 11,
   "metadata": {},
   "outputs": [
    {
     "name": "stdout",
     "output_type": "stream",
     "text": [
      "deleting an overlapping line at index 4: [[466.         2.146755]]\n",
      "deleting an overlapping line at index 9: [[141.          0.2268928]]\n",
      "deleting an overlapping line at index 7: [[-26.          1.9722221]]\n",
      "deleting an overlapping line at index 8: [[-5.         1.9373155]]\n",
      "deleting an overlapping line at index 8: [[-5.         1.9373155]]\n",
      "Overlapping indexes: [4, 9, 7, 8, 8]\n"
     ]
    }
   ],
   "source": [
    "min_rho_difference = 25\n",
    "overlapping_indexes = []\n",
    "\n",
    "for i in range(len(lines)):\n",
    "    rho, _ = lines[i, 0]\n",
    "    for j in range(i+1, len(lines)):\n",
    "        rho2, _ = lines[j, 0]\n",
    "        if abs(rho - rho2) < min_rho_difference:\n",
    "            print(f\"deleting an overlapping line at index {j}: {lines[j]}\")\n",
    "            overlapping_indexes.append(j)\n",
    "print(f\"Overlapping indexes: {overlapping_indexes}\")"
   ]
  },
  {
   "cell_type": "code",
   "execution_count": 12,
   "metadata": {},
   "outputs": [
    {
     "name": "stdout",
     "output_type": "stream",
     "text": [
      "6\n"
     ]
    }
   ],
   "source": [
    "perimiter_lines = []\n",
    "for i in range(len(lines)):\n",
    "    if i not in overlapping_indexes:\n",
    "        perimiter_lines.append(lines[i])\n",
    "        \n",
    "print(len(perimiter_lines))"
   ]
  },
  {
   "cell_type": "code",
   "execution_count": 19,
   "metadata": {},
   "outputs": [],
   "source": [
    "for line in perimiter_lines:\n",
    "    rho, theta = line[0]\n",
    "    a = np.cos(theta)\n",
    "    b = np.sin(theta)\n",
    "    x0 = a * rho\n",
    "    y0 = b * rho\n",
    "    x1 = int(x0 + 1000 * (-b))\n",
    "    y1 = int(y0 + 1000 * (a))\n",
    "    x2 = int(x0 - 1000 * (-b))\n",
    "    y2 = int(y0 - 1000 * (a))\n",
    "    cv2.line(og_img, (x1, y1), (x2, y2), (0, 0, 255), 2)"
   ]
  },
  {
   "cell_type": "code",
   "execution_count": 20,
   "metadata": {},
   "outputs": [],
   "source": [
    "showImage(og_img)"
   ]
  }
 ],
 "metadata": {
  "kernelspec": {
   "display_name": "Python 3",
   "language": "python",
   "name": "python3"
  },
  "language_info": {
   "codemirror_mode": {
    "name": "ipython",
    "version": 3
   },
   "file_extension": ".py",
   "mimetype": "text/x-python",
   "name": "python",
   "nbconvert_exporter": "python",
   "pygments_lexer": "ipython3",
   "version": "3.9.6"
  }
 },
 "nbformat": 4,
 "nbformat_minor": 2
}
