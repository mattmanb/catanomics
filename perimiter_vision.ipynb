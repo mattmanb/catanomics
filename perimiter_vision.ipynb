{
 "cells": [
  {
   "cell_type": "markdown",
   "metadata": {},
   "source": [
    "# Catanomics - Computer Vision and pre-processing\n",
    "The goal of this notebook is to read in an image of a catan board without number or settlements, and draw the board (ports not included) over the image"
   ]
  },
  {
   "cell_type": "code",
   "execution_count": 1,
   "metadata": {},
   "outputs": [],
   "source": [
    "# Import necessary libraries\n",
    "import cv2\n",
    "import numpy as np"
   ]
  },
  {
   "cell_type": "markdown",
   "metadata": {},
   "source": [
    "## Helper functions"
   ]
  },
  {
   "cell_type": "code",
   "execution_count": 2,
   "metadata": {},
   "outputs": [],
   "source": [
    "# Show image function for later use\n",
    "def showImage(img, name=None):\n",
    "    if not name:\n",
    "        cv2.imshow(\"Image display\", img)\n",
    "    else:\n",
    "        cv2.imshow(name, img)\n",
    "    cv2.waitKey(0)\n",
    "    cv2.destroyAllWindows()"
   ]
  },
  {
   "cell_type": "code",
   "execution_count": 3,
   "metadata": {},
   "outputs": [],
   "source": [
    "# Rotate the image to find the maximum y_value (straighten the image as much as possible)\n",
    "def rotate_image(image, angle):\n",
    "    # Get image size\n",
    "    height, width = image.shape[:2]\n",
    "    # Calculate the center of the image\n",
    "    center = (width / 2, height / 2)\n",
    "    # Get the rotation matrix\n",
    "    rotation_matrix = cv2.getRotationMatrix2D(center, angle, 1.0)\n",
    "    # Perform the rotation\n",
    "    rotated_image = cv2.warpAffine(image, rotation_matrix, (width, height))\n",
    "    return rotated_image"
   ]
  },
  {
   "cell_type": "code",
   "execution_count": 4,
   "metadata": {},
   "outputs": [],
   "source": [
    "def rotate_point_back(x_prime, y_prime, angle_deg, center):\n",
    "    \"\"\"Return the coordinates of a point rotated about a center point\n",
    "\n",
    "    Keyword arguments:\n",
    "    x_prime: x-coordinate of a point on a rotated image\n",
    "    y_prime: y-coordinate of a point on a rotated image\n",
    "    angle_deg: the degree in which the target image was rotated to get x and y prime\n",
    "    center: the center of the rotated image\n",
    "    \"\"\"\n",
    "    # Convert angle to radians\n",
    "    angle_rad = np.radians(angle_deg)\n",
    "    # Rotate matrix\n",
    "    rotation_matrix = np.array( [ [np.cos(angle_rad), -np.sin(angle_rad)],\n",
    "                                  [np.sin(angle_rad), np.cos(angle_rad)] ])\n",
    "    # Original center\n",
    "    original_center = np.array(center)\n",
    "\n",
    "    # Translate points back to origin for rotation\n",
    "    translated_point = np.array([x_prime, y_prime]) - original_center\n",
    "\n",
    "    # Apply inverse rotation\n",
    "    rotated_point = np.dot(rotation_matrix, translated_point)\n",
    "\n",
    "    # Translate back after rotation\n",
    "    original_point = rotated_point + original_center\n",
    "\n",
    "    return int(original_point[0]), int(original_point[1])"
   ]
  },
  {
   "cell_type": "markdown",
   "metadata": {},
   "source": [
    "## 0. Record images function"
   ]
  },
  {
   "cell_type": "code",
   "execution_count": 5,
   "metadata": {},
   "outputs": [],
   "source": [
    "def saveImage(filename, img, dir):\n",
    "    # Get full path\n",
    "    full_path = f\"{dir}/{filename}\"\n",
    "    cv2.imwrite(full_path, img)\n",
    "    print(f\"Image saved to {full_path}\")\n",
    "# All images will be saved to \"sample_imgs\"\n",
    "dir = \"./images/sample_imgs\""
   ]
  },
  {
   "cell_type": "markdown",
   "metadata": {},
   "source": [
    "## 1. Read in the image, detect the border, and find the max/min y point of the permiter"
   ]
  },
  {
   "cell_type": "code",
   "execution_count": 6,
   "metadata": {},
   "outputs": [
    {
     "name": "stdout",
     "output_type": "stream",
     "text": [
      "Image saved to ./images/sample_imgs/original.jpg\n"
     ]
    }
   ],
   "source": [
    "# Read in an image\n",
    "image = cv2.imread('./images/v2/board00.jpg')\n",
    "# The input imgs are too big, so reduce to 25%\n",
    "image = cv2.resize(image, (0,0), fx=.25, fy=.25)\n",
    "showImage(image)\n",
    "saveImage(\"original.jpg\", image, dir)"
   ]
  },
  {
   "cell_type": "code",
   "execution_count": 7,
   "metadata": {},
   "outputs": [
    {
     "name": "stdout",
     "output_type": "stream",
     "text": [
      "Image saved to ./images/sample_imgs/hsv.jpg\n"
     ]
    }
   ],
   "source": [
    "# Convert the image to hsv\n",
    "hsv_image = cv2.cvtColor(image, cv2.COLOR_BGR2HSV)\n",
    "showImage(hsv_image)\n",
    "saveImage(\"hsv.jpg\", hsv_image, dir)"
   ]
  },
  {
   "cell_type": "code",
   "execution_count": 8,
   "metadata": {},
   "outputs": [],
   "source": [
    "# Define color bounds for the perimiter of the board\n",
    "lower_blue = np.array([100, 150, 0])\n",
    "upper_blue = np.array([140, 255, 255])"
   ]
  },
  {
   "cell_type": "code",
   "execution_count": 9,
   "metadata": {},
   "outputs": [
    {
     "name": "stdout",
     "output_type": "stream",
     "text": [
      "Image saved to ./images/sample_imgs/mask.jpg\n"
     ]
    }
   ],
   "source": [
    "# Create a binary mask where the blue regions are white, and everything else is black\n",
    "mask = cv2.inRange(hsv_image, lower_blue, upper_blue)\n",
    "showImage(mask)\n",
    "saveImage(\"mask.jpg\", mask, dir)"
   ]
  },
  {
   "cell_type": "code",
   "execution_count": 10,
   "metadata": {},
   "outputs": [
    {
     "name": "stdout",
     "output_type": "stream",
     "text": [
      "Image saved to ./images/sample_imgs/blue_regions.jpg\n"
     ]
    }
   ],
   "source": [
    "# Bitwise AND to keep the blue parts of the image\n",
    "blue_regions = cv2.bitwise_and(image, image, mask=mask)\n",
    "showImage(blue_regions, \"Blue Regions\")\n",
    "saveImage(\"blue_regions.jpg\", blue_regions, dir)"
   ]
  },
  {
   "cell_type": "code",
   "execution_count": 11,
   "metadata": {},
   "outputs": [
    {
     "name": "stdout",
     "output_type": "stream",
     "text": [
      "Image saved to ./images/sample_imgs/edges.jpg\n"
     ]
    }
   ],
   "source": [
    "# Perform canny edge detection on the blue_regions\n",
    "\n",
    "# Convert to grayscale\n",
    "gray_blue_region = cv2.cvtColor(blue_regions, cv2.COLOR_BGR2GRAY)\n",
    "# Apply Gaussian Blur\n",
    "blurred_blue_regions = cv2.GaussianBlur(gray_blue_region, (5,5), 0)\n",
    "# Canny edge detection\n",
    "edges = cv2.Canny(blurred_blue_regions, 50, 150)\n",
    "# Show the result\n",
    "showImage(edges, \"Edges in blue regions\")\n",
    "saveImage(\"edges.jpg\", edges, dir)"
   ]
  },
  {
   "cell_type": "markdown",
   "metadata": {},
   "source": [
    "## 2. Rotate the image 15 to find the upper left and lower right perimiter points\n",
    "* The rotation ensures that the minimum x value is the upper left perimiter point\n",
    "* The rotation also ensures that the maximum x value is the lower right perimiter point\n",
    "* Then, with inverse rotation, we have the upper left and lower right perimiter points "
   ]
  },
  {
   "cell_type": "code",
   "execution_count": 12,
   "metadata": {},
   "outputs": [
    {
     "name": "stdout",
     "output_type": "stream",
     "text": [
      "Image saved to ./images/sample_imgs/rotated_left.jpg\n",
      "Image saved to ./images/sample_imgs/rotated_right.jpg\n"
     ]
    }
   ],
   "source": [
    "# Get the rotated images\n",
    "ul_lr_angle = 15\n",
    "ul_lr_edges = rotate_image(edges, ul_lr_angle)\n",
    "ur_ll_angle = -15\n",
    "ur_ll_edges = rotate_image(edges, ur_ll_angle)\n",
    "showImage(ul_lr_edges, \"Upper left, lower right image\")\n",
    "saveImage(\"rotated_left.jpg\", ul_lr_edges, dir)\n",
    "showImage(ur_ll_edges, \"Upper right, lower left image\")\n",
    "saveImage(\"rotated_right.jpg\", ur_ll_edges, dir)"
   ]
  },
  {
   "cell_type": "markdown",
   "metadata": {},
   "source": [
    "## 3. Using the max and min points and the newly rotated images, find all the perimiter points"
   ]
  },
  {
   "cell_type": "markdown",
   "metadata": {},
   "source": [
    "### 3.1 Calculate bottom and top coordinates"
   ]
  },
  {
   "cell_type": "code",
   "execution_count": 13,
   "metadata": {},
   "outputs": [
    {
     "data": {
      "text/plain": [
       "(870, 152)"
      ]
     },
     "execution_count": 13,
     "metadata": {},
     "output_type": "execute_result"
    }
   ],
   "source": [
    "# Find the max and min points in edges\n",
    "\n",
    "# Get the indices of all nonzero pixels\n",
    "edge_y, edge_x = np.nonzero(edges)\n",
    "\n",
    "# Find the max and min y coordinate of the edges\n",
    "max_y = np.max(edge_y)\n",
    "min_y = np.min(edge_y)\n",
    "\n",
    "max_y, min_y"
   ]
  },
  {
   "cell_type": "code",
   "execution_count": 14,
   "metadata": {},
   "outputs": [
    {
     "name": "stdout",
     "output_type": "stream",
     "text": [
      "Top point of board: (377, 870)\n",
      "Bottom point of board: (382, 152)\n"
     ]
    }
   ],
   "source": [
    "# Find the x-values where the y is at its max and min\n",
    "x_values_at_max_y = edge_x[edge_y == max_y]\n",
    "x_values_at_min_y = edge_x[edge_y == min_y]\n",
    "\n",
    "# Calculate median x-value where y is at its max and min\n",
    "center_x_at_max_y = int(np.median(x_values_at_max_y))\n",
    "center_x_at_min_y = int(np.median(x_values_at_min_y))\n",
    "\n",
    "print(f\"Top point of board: {center_x_at_max_y, max_y}\")\n",
    "print(f\"Bottom point of board: {center_x_at_min_y, min_y}\")"
   ]
  },
  {
   "cell_type": "code",
   "execution_count": 15,
   "metadata": {},
   "outputs": [
    {
     "name": "stdout",
     "output_type": "stream",
     "text": [
      "Image saved to ./images/sample_imgs/top_and_bottom_points.jpg\n"
     ]
    }
   ],
   "source": [
    "# Visualize top and bottom points\n",
    "cv2.circle(image, (center_x_at_max_y, max_y), 5, (0,0,255), -1)\n",
    "cv2.circle(image, (center_x_at_min_y, min_y), 5, (0,0,255), -1)\n",
    "showImage(image)\n",
    "saveImage(\"top_and_bottom_points.jpg\", image, dir)"
   ]
  },
  {
   "cell_type": "code",
   "execution_count": 16,
   "metadata": {},
   "outputs": [
    {
     "data": {
      "text/plain": [
       "((382, 152), (377, 870))"
      ]
     },
     "execution_count": 16,
     "metadata": {},
     "output_type": "execute_result"
    }
   ],
   "source": [
    "# Give better variable names to the points\n",
    "top_y = min_y\n",
    "top_x = center_x_at_min_y\n",
    "bottom_y = max_y\n",
    "bottom_x = center_x_at_max_y\n",
    "(top_x, top_y), (bottom_x, bottom_y)"
   ]
  },
  {
   "cell_type": "markdown",
   "metadata": {},
   "source": [
    "### 3.2 Calculate upper left and lower right perimiter coordinates"
   ]
  },
  {
   "cell_type": "code",
   "execution_count": 17,
   "metadata": {},
   "outputs": [
    {
     "data": {
      "text/plain": [
       "(731, 32)"
      ]
     },
     "execution_count": 17,
     "metadata": {},
     "output_type": "execute_result"
    }
   ],
   "source": [
    "# Find the top left and bottom right perimiter points with the 15 degree rotated image\n",
    "ul_lr_y_edges, ul_lr_x_edges = np.nonzero(ul_lr_edges)\n",
    "\n",
    "# Find the max and min x coordinates of the edges\n",
    "lr_x = np.max(ul_lr_x_edges)\n",
    "ul_x = np.min(ul_lr_x_edges)\n",
    "\n",
    "lr_x, ul_x"
   ]
  },
  {
   "cell_type": "code",
   "execution_count": 18,
   "metadata": {},
   "outputs": [
    {
     "name": "stdout",
     "output_type": "stream",
     "text": [
      "Upper left coordinate in rotated image: (32, 409)\n",
      "Lower right coordinate in rotated image: (731, 595)\n"
     ]
    }
   ],
   "source": [
    "# Find the y-values where x is at its max and min\n",
    "lr_y_values = ul_lr_y_edges[ul_lr_x_edges == lr_x]\n",
    "ul_y_values = ul_lr_y_edges[ul_lr_x_edges == ul_x]\n",
    "\n",
    "# Find the median y-value where x is at its max and min\n",
    "lr_y = int(np.median(lr_y_values))\n",
    "ul_y = int(np.median(ul_y_values))\n",
    "\n",
    "print(f\"Upper left coordinate in rotated image: {ul_x, ul_y}\")\n",
    "print(f\"Lower right coordinate in rotated image: {lr_x, lr_y}\")"
   ]
  },
  {
   "cell_type": "code",
   "execution_count": 19,
   "metadata": {},
   "outputs": [
    {
     "name": "stdout",
     "output_type": "stream",
     "text": [
      "Image saved to ./images/sample_imgs/upper_left_lower_right_points.jpg\n"
     ]
    }
   ],
   "source": [
    "# Visualize found points\n",
    "cv2.circle(ul_lr_edges, (ul_x, ul_y), 5, (255, 255, 255), -1)\n",
    "cv2.circle(ul_lr_edges, (lr_x, lr_y), 5, (255, 255, 255), -1)\n",
    "showImage(ul_lr_edges)\n",
    "saveImage(\"upper_left_lower_right_points.jpg\", ul_lr_edges, dir)"
   ]
  },
  {
   "cell_type": "code",
   "execution_count": 20,
   "metadata": {},
   "outputs": [
    {
     "data": {
      "text/plain": [
       "((68, 322), (695, 683))"
      ]
     },
     "execution_count": 20,
     "metadata": {},
     "output_type": "execute_result"
    }
   ],
   "source": [
    "# Perform inverse rotation on upper left and lower right points\n",
    "\n",
    "# Get image size\n",
    "height, width = ul_lr_edges.shape[:2]\n",
    "# Calculate the center of ul_lr_edges\n",
    "ul_lr_center = (width / 2, height / 2)\n",
    "\n",
    "upper_left_x, upper_left_y = rotate_point_back(\n",
    "                                x_prime = ul_x, \n",
    "                                y_prime=ul_y, \n",
    "                                angle_deg=ul_lr_angle, \n",
    "                                center=ul_lr_center\n",
    "                             )\n",
    "lower_right_x, lower_right_y = rotate_point_back(\n",
    "                                    x_prime=lr_x,\n",
    "                                    y_prime=lr_y,\n",
    "                                    angle_deg=ul_lr_angle,\n",
    "                                    center=ul_lr_center\n",
    "                               )\n",
    "# Should be ((68, 322), (695, 683))\n",
    "(upper_left_x, upper_left_y), (lower_right_x, lower_right_y)"
   ]
  },
  {
   "cell_type": "code",
   "execution_count": 21,
   "metadata": {},
   "outputs": [
    {
     "name": "stdout",
     "output_type": "stream",
     "text": [
      "Image saved to ./images/sample_imgs/ul_lr_on_original.jpg\n"
     ]
    }
   ],
   "source": [
    "# Visualize upper left and lower right points on original image\n",
    "cv2.circle(image, (upper_left_x, upper_left_y), 5, (0, 255, 0), -1)\n",
    "cv2.circle(image, (lower_right_x, lower_right_y), 5, (255, 0, 0), -1)\n",
    "showImage(image)\n",
    "saveImage(\"ul_lr_on_original.jpg\", image, dir)"
   ]
  },
  {
   "cell_type": "markdown",
   "metadata": {},
   "source": [
    "### 3.3 Calculate upper right and lower left perimiter coordinates"
   ]
  },
  {
   "cell_type": "code",
   "execution_count": 22,
   "metadata": {},
   "outputs": [
    {
     "data": {
      "text/plain": [
       "(722, 25)"
      ]
     },
     "execution_count": 22,
     "metadata": {},
     "output_type": "execute_result"
    }
   ],
   "source": [
    "# Find the top left and bottom right perimiter points with the 15 degree rotated image\n",
    "ur_ll_y_edges, ur_ll_x_edges = np.nonzero(ur_ll_edges)\n",
    "\n",
    "# Find the max and min x coordinates of the edges\n",
    "ur_x = np.max(ur_ll_x_edges)\n",
    "ll_x = np.min(ur_ll_x_edges)\n",
    "\n",
    "ur_x, ll_x"
   ]
  },
  {
   "cell_type": "code",
   "execution_count": 23,
   "metadata": {},
   "outputs": [
    {
     "name": "stdout",
     "output_type": "stream",
     "text": [
      "Upper right coordinate in rotated image: (722, 413)\n",
      "Lower left coordinates in rotated image: (25, 595)\n"
     ]
    }
   ],
   "source": [
    "# Find the y-values where x is at its max and min\n",
    "ll_y_values = ur_ll_y_edges[ur_ll_x_edges == ll_x]\n",
    "ur_y_values = ur_ll_y_edges[ur_ll_x_edges == ur_x]\n",
    "\n",
    "# Find the median y-value where x is at its max and min\n",
    "ll_y = int(np.median(ll_y_values))\n",
    "ur_y = int(np.median(ur_y_values))\n",
    "\n",
    "print(f\"Upper right coordinate in rotated image: {ur_x, ur_y}\")\n",
    "print(f\"Lower left coordinates in rotated image: {ll_x, ll_y}\")"
   ]
  },
  {
   "cell_type": "code",
   "execution_count": 24,
   "metadata": {},
   "outputs": [
    {
     "name": "stdout",
     "output_type": "stream",
     "text": [
      "Image saved to ./images/sample_imgs/upper_right_lower_left_points.jpg\n"
     ]
    }
   ],
   "source": [
    "# Visualize found points\n",
    "cv2.circle(ur_ll_edges, (ur_x, ur_y), 5, (255, 255, 255), -1)\n",
    "cv2.circle(ur_ll_edges, (ll_x, ll_y), 5, (255, 255, 255), -1)\n",
    "showImage(ur_ll_edges) \n",
    "saveImage(\"upper_right_lower_left_points.jpg\", ur_ll_edges, dir)"
   ]
  },
  {
   "cell_type": "code",
   "execution_count": 25,
   "metadata": {},
   "outputs": [
    {
     "data": {
      "text/plain": [
       "((686, 327), (60, 683))"
      ]
     },
     "execution_count": 25,
     "metadata": {},
     "output_type": "execute_result"
    }
   ],
   "source": [
    "# Perform inverse rotation on upper right and lower left points\n",
    "\n",
    "# Get image size\n",
    "height, width = ur_ll_edges.shape[:2]\n",
    "# Calculate the center of ur_ll_edges\n",
    "ur_ll_center = (width / 2, height / 2)\n",
    "\n",
    "upper_right_x, upper_right_y = rotate_point_back(\n",
    "                                  x_prime = ur_x,\n",
    "                                  y_prime=ur_y,\n",
    "                                  angle_deg = ur_ll_angle,\n",
    "                                  center = ur_ll_center\n",
    "                               )\n",
    "lower_left_x, lower_left_y = rotate_point_back(\n",
    "                                x_prime = ll_x,\n",
    "                                y_prime = ll_y,\n",
    "                                angle_deg = ur_ll_angle,\n",
    "                                center = ur_ll_center\n",
    "                             )\n",
    "(upper_right_x, upper_right_y), (lower_left_x, lower_left_y)"
   ]
  },
  {
   "cell_type": "code",
   "execution_count": 26,
   "metadata": {},
   "outputs": [
    {
     "name": "stdout",
     "output_type": "stream",
     "text": [
      "Image saved to ./images/sample_imgs/ur_ll_on_original.jpg\n"
     ]
    }
   ],
   "source": [
    "# Visualize upper right and lower left points on original image\n",
    "cv2.circle(image, (upper_right_x, upper_right_y), 5, (0, 255, 0), -1)\n",
    "cv2.circle(image, (lower_left_x, lower_left_y), 5, (255, 0, 0), -1)\n",
    "showImage(image)\n",
    "saveImage(\"ur_ll_on_original.jpg\", image, dir)"
   ]
  },
  {
   "cell_type": "markdown",
   "metadata": {},
   "source": [
    "# 4. Connecting the perimiter of the board!"
   ]
  },
  {
   "cell_type": "code",
   "execution_count": 27,
   "metadata": {},
   "outputs": [
    {
     "name": "stdout",
     "output_type": "stream",
     "text": [
      "Top coordinates: (382, 152)\n",
      "Upper right coordinates: (686, 327)\n",
      "Lower right coordinates: (695, 683)\n",
      "Bottom coordinates: (377, 870)\n",
      "Lower left coordinates: (60, 683)\n",
      "Upper left coordinates: (68, 322)\n"
     ]
    }
   ],
   "source": [
    "# print the coordinates of the perimiter points with NO ROTATION\n",
    "print(f\"Top coordinates: {top_x, top_y}\")\n",
    "print(f\"Upper right coordinates: {upper_right_x, upper_right_y}\")\n",
    "print(f\"Lower right coordinates: {lower_right_x, lower_right_y}\")\n",
    "print(f\"Bottom coordinates: {bottom_x, bottom_y}\")\n",
    "print(f\"Lower left coordinates: {lower_left_x, lower_left_y}\")\n",
    "print(f\"Upper left coordinates: {upper_left_x, upper_left_y}\")"
   ]
  },
  {
   "cell_type": "code",
   "execution_count": 28,
   "metadata": {},
   "outputs": [
    {
     "name": "stdout",
     "output_type": "stream",
     "text": [
      "Image saved to ./images/sample_imgs/full_perimiter.jpg\n"
     ]
    }
   ],
   "source": [
    "# draw the perimiter of the board\n",
    "cv2.line(image, (top_x, top_y), (upper_right_x, upper_right_y), (0,0,255), 5)\n",
    "cv2.line(image, (upper_right_x, upper_right_y), (lower_right_x, lower_right_y), (0,0,255), 5)\n",
    "cv2.line(image, (lower_right_x, lower_right_y), (bottom_x, bottom_y), (0,0,255), 5)\n",
    "cv2.line(image, (bottom_x, bottom_y), (lower_left_x, lower_left_y), (0,0,255), 5)\n",
    "cv2.line(image, (lower_left_x, lower_left_y), (upper_left_x, upper_left_y), (0,0,255), 5)\n",
    "cv2.line(image, (upper_left_x, upper_left_y), (top_x, top_y), (0,0,255), 5)\n",
    "showImage(image)\n",
    "saveImage(\"full_perimiter.jpg\", image, dir)\n"
   ]
  },
  {
   "cell_type": "code",
   "execution_count": 29,
   "metadata": {},
   "outputs": [
    {
     "name": "stdout",
     "output_type": "stream",
     "text": [
      "Image saved to ./images/perimiter/perimiter00.jpg\n"
     ]
    }
   ],
   "source": [
    "# Save the image \n",
    "directory_path = \"./images/perimiter\"\n",
    "file_name = \"perimiter00.jpg\"\n",
    "full_path = f\"{directory_path}/{file_name}\"\n",
    "cv2.imwrite(full_path, image)\n",
    "print(f\"Image saved to {full_path}\")"
   ]
  }
 ],
 "metadata": {
  "kernelspec": {
   "display_name": "Python 3",
   "language": "python",
   "name": "python3"
  },
  "language_info": {
   "codemirror_mode": {
    "name": "ipython",
    "version": 3
   },
   "file_extension": ".py",
   "mimetype": "text/x-python",
   "name": "python",
   "nbconvert_exporter": "python",
   "pygments_lexer": "ipython3",
   "version": "3.11.7"
  }
 },
 "nbformat": 4,
 "nbformat_minor": 2
}
