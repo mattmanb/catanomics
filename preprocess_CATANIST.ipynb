{
 "cells": [
  {
   "cell_type": "markdown",
   "metadata": {},
   "source": [
    "# 0. Data gathering\n",
    "\n",
    "Description of a version 0 dataset:\n",
    "* 100 images total, 75 training and 25 testing\n",
    "* Images of the catan circles that represent numbers at various angles and lighting\n",
    "* There are 10 numbers in total, so there needs to be 10 images of each number\n",
    "* This dataset will be without data augmentation\n",
    "* Various background, including a catan board and close up of the number\n",
    "* The goal is to train a model on this dataset that will eventually take in cropped out images of the numbers of a Catan board and identify which number it is"
   ]
  },
  {
   "cell_type": "markdown",
   "metadata": {},
   "source": [
    "# 1. Create a zip file of the images for importing\n",
    "\n",
    "After images are collected, I'll create a zip file and put it on the Github Repository: https://github.com/mattmanb/catanomics/tree/main\n",
    "* This zip file will have the correct directory paths set up (the data will already be divided into train and test sets, as well as what number they will fall under)\n",
    "* i.e. \"data/CATANIST/train/four\" will contain all training images of the number four\n",
    "* Each training class should have a minimum of 7 images of that number (if the data is divided completely randomly then there is a chance a number's images are too skewed to the test directory and the model won't be able to sufficiently learn the number's patterns)"
   ]
  },
  {
   "cell_type": "markdown",
   "metadata": {},
   "source": [
    "## 1.1 This script was used to create the condensed zip file that holds the dataset\n",
    "* The zip file before was 233MB since each image was 3024x3024 (thanks Apple!)\n",
    "* I resized all the images to 224x224, saved it to a 'condensed' directory, then made a zip file from there. No need to keep this code included, so I'll comment it out."
   ]
  },
  {
   "cell_type": "code",
   "execution_count": 5,
   "metadata": {},
   "outputs": [],
   "source": [
    "# # Resize all the images in the dataset so a zip file < 25MB can be made\n",
    "# import cv2\n",
    "# import os\n",
    "\n",
    "# def resize_images(root_dir, target_dir, new_width, new_height):\n",
    "#     for subdir, dirs, files in os.walk(root_dir):\n",
    "#         for file in files:\n",
    "#             # Construct the full file path\n",
    "#             file_path = os.path.join(subdir, file)\n",
    "#             # Read the image\n",
    "#             image = cv2.imread(file_path)\n",
    "#             if image is not None:\n",
    "#                 # Resize the image\n",
    "#                 resized_image = cv2.resize(image, (new_width, new_height))\n",
    "\n",
    "#                 # Construct relative path to maintain the directory structure\n",
    "#                 relative_path = os.path.relpath(subdir, root_dir)\n",
    "#                 target_subdir = os.path.join(target_dir, relative_path)\n",
    "\n",
    "#                 # Ensure the target subdirectory exists\n",
    "#                 if not os.path.exists(target_subdir):\n",
    "#                     os.makedirs(target_subdir)\n",
    "\n",
    "#                 # Construct the target file path to save the image\n",
    "#                 target_file_path = os.path.join(target_subdir, file)\n",
    "#                 cv2.imwrite(target_file_path, resized_image)\n",
    "#                 print(f\"Resized image saved to {target_file_path}\")\n",
    "#             else:\n",
    "#                 print(f\"Failed to read {file_path}\")"
   ]
  },
  {
   "cell_type": "code",
   "execution_count": 6,
   "metadata": {},
   "outputs": [
    {
     "name": "stdout",
     "output_type": "stream",
     "text": [
      "Resized image saved to ./condensed/CATANIST\\test\\eight\\Photo Feb 28 2024, 09 54 02.jpg\n",
      "Resized image saved to ./condensed/CATANIST\\test\\eight\\Photo Feb 28 2024, 09 54 09.jpg\n",
      "Resized image saved to ./condensed/CATANIST\\test\\eight\\Photo Feb 28 2024, 09 54 16.jpg\n",
      "Resized image saved to ./condensed/CATANIST\\test\\eleven\\Photo Feb 28 2024, 09 58 03.jpg\n",
      "Resized image saved to ./condensed/CATANIST\\test\\eleven\\Photo Feb 28 2024, 09 58 22.jpg\n",
      "Resized image saved to ./condensed/CATANIST\\test\\eleven\\Photo Feb 28 2024, 09 58 29.jpg\n",
      "Resized image saved to ./condensed/CATANIST\\test\\five\\Photo Feb 28 2024, 09 50 22.jpg\n",
      "Resized image saved to ./condensed/CATANIST\\test\\five\\Photo Feb 28 2024, 09 50 29.jpg\n",
      "Resized image saved to ./condensed/CATANIST\\test\\five\\Photo Feb 28 2024, 09 50 36.jpg\n",
      "Resized image saved to ./condensed/CATANIST\\test\\four\\Photo Feb 28 2024, 09 48 56.jpg\n",
      "Resized image saved to ./condensed/CATANIST\\test\\four\\Photo Feb 28 2024, 09 49 02.jpg\n",
      "Resized image saved to ./condensed/CATANIST\\test\\four\\Photo Feb 28 2024, 09 49 08.jpg\n",
      "Resized image saved to ./condensed/CATANIST\\test\\nine\\Photo Feb 28 2024, 09 55 18.jpg\n",
      "Resized image saved to ./condensed/CATANIST\\test\\nine\\Photo Feb 28 2024, 09 55 23.jpg\n",
      "Resized image saved to ./condensed/CATANIST\\test\\nine\\Photo Feb 28 2024, 09 55 30.jpg\n",
      "Resized image saved to ./condensed/CATANIST\\test\\six\\Photo Feb 28 2024, 09 52 28.jpg\n",
      "Resized image saved to ./condensed/CATANIST\\test\\six\\Photo Feb 28 2024, 09 52 32.jpg\n",
      "Resized image saved to ./condensed/CATANIST\\test\\six\\Photo Feb 28 2024, 09 52 39.jpg\n",
      "Resized image saved to ./condensed/CATANIST\\test\\ten\\Photo Feb 28 2024, 09 56 49.jpg\n",
      "Resized image saved to ./condensed/CATANIST\\test\\ten\\Photo Feb 28 2024, 09 56 56.jpg\n",
      "Resized image saved to ./condensed/CATANIST\\test\\ten\\Photo Feb 28 2024, 09 57 02.jpg\n",
      "Resized image saved to ./condensed/CATANIST\\test\\three\\Photo Feb 28 2024, 09 46 45.jpg\n",
      "Resized image saved to ./condensed/CATANIST\\test\\three\\Photo Feb 28 2024, 09 46 50.jpg\n",
      "Resized image saved to ./condensed/CATANIST\\test\\three\\Photo Feb 28 2024, 09 46 52.jpg\n",
      "Resized image saved to ./condensed/CATANIST\\test\\twelve\\Photo Feb 28 2024, 09 59 39.jpg\n",
      "Resized image saved to ./condensed/CATANIST\\test\\twelve\\Photo Feb 28 2024, 09 59 43.jpg\n",
      "Resized image saved to ./condensed/CATANIST\\test\\twelve\\Photo Feb 28 2024, 09 59 50.jpg\n",
      "Resized image saved to ./condensed/CATANIST\\test\\two\\Photo Feb 28 2024, 09 44 58.jpg\n",
      "Resized image saved to ./condensed/CATANIST\\test\\two\\Photo Feb 28 2024, 09 45 10.jpg\n",
      "Resized image saved to ./condensed/CATANIST\\test\\two\\Photo Feb 28 2024, 09 45 23.jpg\n",
      "Resized image saved to ./condensed/CATANIST\\train\\eight\\Photo Feb 28 2024, 09 52 56.jpg\n",
      "Resized image saved to ./condensed/CATANIST\\train\\eight\\Photo Feb 28 2024, 09 53 00.jpg\n",
      "Resized image saved to ./condensed/CATANIST\\train\\eight\\Photo Feb 28 2024, 09 53 08.jpg\n",
      "Resized image saved to ./condensed/CATANIST\\train\\eight\\Photo Feb 28 2024, 09 53 13.jpg\n",
      "Resized image saved to ./condensed/CATANIST\\train\\eight\\Photo Feb 28 2024, 09 53 19.jpg\n",
      "Resized image saved to ./condensed/CATANIST\\train\\eight\\Photo Feb 28 2024, 09 53 42.jpg\n",
      "Resized image saved to ./condensed/CATANIST\\train\\eight\\Photo Feb 28 2024, 09 54 00.jpg\n",
      "Resized image saved to ./condensed/CATANIST\\train\\eleven\\Photo Feb 28 2024, 09 57 20.jpg\n",
      "Resized image saved to ./condensed/CATANIST\\train\\eleven\\Photo Feb 28 2024, 09 57 24.jpg\n",
      "Resized image saved to ./condensed/CATANIST\\train\\eleven\\Photo Feb 28 2024, 09 57 31.jpg\n",
      "Resized image saved to ./condensed/CATANIST\\train\\eleven\\Photo Feb 28 2024, 09 57 33.jpg\n",
      "Resized image saved to ./condensed/CATANIST\\train\\eleven\\Photo Feb 28 2024, 09 57 45.jpg\n",
      "Resized image saved to ./condensed/CATANIST\\train\\eleven\\Photo Feb 28 2024, 09 57 59.jpg\n",
      "Resized image saved to ./condensed/CATANIST\\train\\eleven\\Photo Feb 28 2024, 09 58 18.jpg\n",
      "Resized image saved to ./condensed/CATANIST\\train\\five\\Photo Feb 28 2024, 09 49 24.jpg\n",
      "Resized image saved to ./condensed/CATANIST\\train\\five\\Photo Feb 28 2024, 09 49 27.jpg\n",
      "Resized image saved to ./condensed/CATANIST\\train\\five\\Photo Feb 28 2024, 09 49 41.jpg\n",
      "Resized image saved to ./condensed/CATANIST\\train\\five\\Photo Feb 28 2024, 09 49 45.jpg\n",
      "Resized image saved to ./condensed/CATANIST\\train\\five\\Photo Feb 28 2024, 09 49 51.jpg\n",
      "Resized image saved to ./condensed/CATANIST\\train\\five\\Photo Feb 28 2024, 09 50 05.jpg\n",
      "Resized image saved to ./condensed/CATANIST\\train\\five\\Photo Feb 28 2024, 09 50 15.jpg\n",
      "Resized image saved to ./condensed/CATANIST\\train\\four\\Photo Feb 28 2024, 09 47 07.jpg\n",
      "Resized image saved to ./condensed/CATANIST\\train\\four\\Photo Feb 28 2024, 09 47 16.jpg\n",
      "Resized image saved to ./condensed/CATANIST\\train\\four\\Photo Feb 28 2024, 09 47 32.jpg\n",
      "Resized image saved to ./condensed/CATANIST\\train\\four\\Photo Feb 28 2024, 09 47 40.jpg\n",
      "Resized image saved to ./condensed/CATANIST\\train\\four\\Photo Feb 28 2024, 09 48 12.jpg\n",
      "Resized image saved to ./condensed/CATANIST\\train\\four\\Photo Feb 28 2024, 09 48 44.jpg\n",
      "Resized image saved to ./condensed/CATANIST\\train\\four\\Photo Feb 28 2024, 09 48 51.jpg\n",
      "Resized image saved to ./condensed/CATANIST\\train\\nine\\Photo Feb 28 2024, 09 54 31.jpg\n",
      "Resized image saved to ./condensed/CATANIST\\train\\nine\\Photo Feb 28 2024, 09 54 37.jpg\n",
      "Resized image saved to ./condensed/CATANIST\\train\\nine\\Photo Feb 28 2024, 09 54 44.jpg\n",
      "Resized image saved to ./condensed/CATANIST\\train\\nine\\Photo Feb 28 2024, 09 54 51.jpg\n",
      "Resized image saved to ./condensed/CATANIST\\train\\nine\\Photo Feb 28 2024, 09 54 59.jpg\n",
      "Resized image saved to ./condensed/CATANIST\\train\\nine\\Photo Feb 28 2024, 09 55 08.jpg\n",
      "Resized image saved to ./condensed/CATANIST\\train\\nine\\Photo Feb 28 2024, 09 55 10.jpg\n",
      "Resized image saved to ./condensed/CATANIST\\train\\six\\Photo Feb 28 2024, 09 51 08.jpg\n",
      "Resized image saved to ./condensed/CATANIST\\train\\six\\Photo Feb 28 2024, 09 51 10.jpg\n",
      "Resized image saved to ./condensed/CATANIST\\train\\six\\Photo Feb 28 2024, 09 51 28.jpg\n",
      "Resized image saved to ./condensed/CATANIST\\train\\six\\Photo Feb 28 2024, 09 51 32.jpg\n",
      "Resized image saved to ./condensed/CATANIST\\train\\six\\Photo Feb 28 2024, 09 52 12.jpg\n",
      "Resized image saved to ./condensed/CATANIST\\train\\six\\Photo Feb 28 2024, 09 52 42.jpg\n",
      "Resized image saved to ./condensed/CATANIST\\train\\six\\Photo Feb 28 2024, 09 52 48.jpg\n",
      "Resized image saved to ./condensed/CATANIST\\train\\ten\\Photo Feb 28 2024, 09 55 39.jpg\n",
      "Resized image saved to ./condensed/CATANIST\\train\\ten\\Photo Feb 28 2024, 09 55 43.jpg\n",
      "Resized image saved to ./condensed/CATANIST\\train\\ten\\Photo Feb 28 2024, 09 55 59.jpg\n",
      "Resized image saved to ./condensed/CATANIST\\train\\ten\\Photo Feb 28 2024, 09 56 02.jpg\n",
      "Resized image saved to ./condensed/CATANIST\\train\\ten\\Photo Feb 28 2024, 09 56 06.jpg\n",
      "Resized image saved to ./condensed/CATANIST\\train\\ten\\Photo Feb 28 2024, 09 56 15.jpg\n",
      "Resized image saved to ./condensed/CATANIST\\train\\ten\\Photo Feb 28 2024, 09 56 44.jpg\n",
      "Resized image saved to ./condensed/CATANIST\\train\\three\\Photo Feb 28 2024, 09 45 47.jpg\n",
      "Resized image saved to ./condensed/CATANIST\\train\\three\\Photo Feb 28 2024, 09 45 54.jpg\n",
      "Resized image saved to ./condensed/CATANIST\\train\\three\\Photo Feb 28 2024, 09 46 01.jpg\n",
      "Resized image saved to ./condensed/CATANIST\\train\\three\\Photo Feb 28 2024, 09 46 06.jpg\n",
      "Resized image saved to ./condensed/CATANIST\\train\\three\\Photo Feb 28 2024, 09 46 12.jpg\n",
      "Resized image saved to ./condensed/CATANIST\\train\\three\\Photo Feb 28 2024, 09 46 22.jpg\n",
      "Resized image saved to ./condensed/CATANIST\\train\\three\\Photo Feb 28 2024, 09 46 36.jpg\n",
      "Resized image saved to ./condensed/CATANIST\\train\\twelve\\Photo Feb 28 2024, 09 58 44.jpg\n",
      "Resized image saved to ./condensed/CATANIST\\train\\twelve\\Photo Feb 28 2024, 09 58 51.jpg\n",
      "Resized image saved to ./condensed/CATANIST\\train\\twelve\\Photo Feb 28 2024, 09 58 55.jpg\n",
      "Resized image saved to ./condensed/CATANIST\\train\\twelve\\Photo Feb 28 2024, 09 58 59.jpg\n",
      "Resized image saved to ./condensed/CATANIST\\train\\twelve\\Photo Feb 28 2024, 09 59 05.jpg\n",
      "Resized image saved to ./condensed/CATANIST\\train\\twelve\\Photo Feb 28 2024, 09 59 19.jpg\n",
      "Resized image saved to ./condensed/CATANIST\\train\\twelve\\Photo Feb 28 2024, 09 59 30.jpg\n",
      "Resized image saved to ./condensed/CATANIST\\train\\two\\Photo Feb 28 2024, 09 41 44.jpg\n",
      "Resized image saved to ./condensed/CATANIST\\train\\two\\Photo Feb 28 2024, 09 42 25.jpg\n",
      "Resized image saved to ./condensed/CATANIST\\train\\two\\Photo Feb 28 2024, 09 42 48.jpg\n",
      "Resized image saved to ./condensed/CATANIST\\train\\two\\Photo Feb 28 2024, 09 43 04.jpg\n",
      "Resized image saved to ./condensed/CATANIST\\train\\two\\Photo Feb 28 2024, 09 43 14.jpg\n",
      "Resized image saved to ./condensed/CATANIST\\train\\two\\Photo Feb 28 2024, 09 43 42.jpg\n",
      "Resized image saved to ./condensed/CATANIST\\train\\two\\Photo Feb 28 2024, 09 44 46.jpg\n"
     ]
    }
   ],
   "source": [
    "# # Create new folder\n",
    "# root_dir = './data/CATANIST'\n",
    "# target_dir = './condensed/CATANIST'\n",
    "# new_width = 224\n",
    "# new_height = 224\n",
    "\n",
    "# resize_images(root_dir, target_dir, new_width, new_height)"
   ]
  },
  {
   "cell_type": "markdown",
   "metadata": {},
   "source": [
    "# 2. Set up train/test directories and get a list of all the file paths (Data preparation)\n",
    "\n",
    "* Create training/testing directories\n",
    "* Visualize some of the images at random from the training directory"
   ]
  },
  {
   "cell_type": "markdown",
   "metadata": {},
   "source": [
    "# 3. Tranforming the data for the model\n",
    "\n",
    "In order to use these images with a PyTorch model, they need to be transformed...\n",
    "* The resolution can be much lower than the quality iPhones default to\n",
    "* No data augmentation in the first iteration of the dataset\n",
    "* Then the images must be put into Tensor format that will work with PyTorch\n",
    "* Visualize images using matplotlib (`.permute()` needs to be used so that color channels come last!)"
   ]
  },
  {
   "cell_type": "markdown",
   "metadata": {},
   "source": [
    "# 4. Load image data using `ImageFolder` from `torchvision.datasets`, and create DataLoaders\n",
    "\n",
    "This performs the transforms previously created and loads the images into ImageFolder data variables\n",
    "\n",
    "Then create DataLoaders from the train/test ImageFolder variables"
   ]
  },
  {
   "cell_type": "markdown",
   "metadata": {},
   "source": [
    "# 5. Perform any other transforms\n",
    "\n",
    "This is the step where any other transformations, such as data augmentation, would take place. \n",
    "\n",
    "Possible data augmentations for this dataset:\n",
    "* TrivialAugment - https://pytorch.org/vision/main/generated/torchvision.transforms.TrivialAugmentWide.html\n",
    "* Vertical Flip - https://pytorch.org/vision/stable/generated/torchvision.transforms.RandomVerticalFlip.html"
   ]
  },
  {
   "cell_type": "markdown",
   "metadata": {},
   "source": [
    "# 6. Create a model\n",
    "\n",
    "Find a model architecture that works well with MNIST and try that, then experiment from there.\n",
    "* This step will require many different attempts to try to become the most accurate, prevent underfitting/overfitting, and determine other issues with the dataset\n",
    "* Use `torchinfo` to visualize the learning process\n",
    "* Functionize training, testing, and evaluation for future models"
   ]
  },
  {
   "cell_type": "markdown",
   "metadata": {},
   "source": [
    "# 7. Plot loss curves\n",
    "\n",
    "This step is crucial in improving the results during step 6\n",
    "* Plot different model performance against one another\n",
    "* Visualize model performance\n",
    "* Functionize plotting and plotting two models against one another"
   ]
  },
  {
   "cell_type": "markdown",
   "metadata": {},
   "source": [
    "# 8. Test model with custom images\n",
    "\n",
    "Take new images and send them through the model\n",
    "* Functionize model predictions and plot the prediction along with the image\n",
    "* Take new images to see how the model does with new images"
   ]
  },
  {
   "cell_type": "code",
   "execution_count": 1,
   "metadata": {},
   "outputs": [],
   "source": [
    "import cv2\n",
    "import numpy as np\n",
    "import torch"
   ]
  },
  {
   "cell_type": "code",
   "execution_count": 2,
   "metadata": {},
   "outputs": [],
   "source": [
    "# Show image function for later use\n",
    "def showImage(img, name=None):\n",
    "    if not name:\n",
    "        cv2.imshow(\"Image display\", img)\n",
    "    else:\n",
    "        cv2.imshow(name, img)\n",
    "    cv2.waitKey(0)\n",
    "    cv2.destroyAllWindows()\n",
    "    \n",
    "# Save image function\n",
    "def saveImage(filename, img, dir):\n",
    "    # Get full path\n",
    "    full_path = f\"{dir}/{filename}\"\n",
    "    cv2.imwrite(full_path, img)\n",
    "    print(f\"Image saved to {full_path}\")"
   ]
  },
  {
   "cell_type": "code",
   "execution_count": 3,
   "metadata": {},
   "outputs": [
    {
     "ename": "FileNotFoundError",
     "evalue": "[Errno 2] No such file or directory: './images/CATANIST dataset'",
     "output_type": "error",
     "traceback": [
      "\u001b[0;31m---------------------------------------------------------------------------\u001b[0m",
      "\u001b[0;31mFileNotFoundError\u001b[0m                         Traceback (most recent call last)",
      "Cell \u001b[0;32mIn[3], line 5\u001b[0m\n\u001b[1;32m      2\u001b[0m \u001b[38;5;28;01mfrom\u001b[39;00m \u001b[38;5;21;01mPIL\u001b[39;00m \u001b[38;5;28;01mimport\u001b[39;00m Image\n\u001b[1;32m      4\u001b[0m images \u001b[38;5;241m=\u001b[39m []\n\u001b[0;32m----> 5\u001b[0m \u001b[38;5;28;01mfor\u001b[39;00m filename \u001b[38;5;129;01min\u001b[39;00m \u001b[43mos\u001b[49m\u001b[38;5;241;43m.\u001b[39;49m\u001b[43mlistdir\u001b[49m\u001b[43m(\u001b[49m\u001b[38;5;124;43m\"\u001b[39;49m\u001b[38;5;124;43m./images/CATANIST dataset\u001b[39;49m\u001b[38;5;124;43m\"\u001b[39;49m\u001b[43m)\u001b[49m:\n\u001b[1;32m      6\u001b[0m     file_path \u001b[38;5;241m=\u001b[39m os\u001b[38;5;241m.\u001b[39mpath\u001b[38;5;241m.\u001b[39mjoin(\u001b[38;5;124m\"\u001b[39m\u001b[38;5;124m./images/CATANIST dataset\u001b[39m\u001b[38;5;124m\"\u001b[39m, filename)\n\u001b[1;32m      7\u001b[0m     \u001b[38;5;28;01mtry\u001b[39;00m:\n",
      "\u001b[0;31mFileNotFoundError\u001b[0m: [Errno 2] No such file or directory: './images/CATANIST dataset'"
     ]
    }
   ],
   "source": [
    "import os\n",
    "from PIL import Image\n",
    "\n",
    "images = []\n",
    "for filename in os.listdir(\"./data/CATANIST dataset\"):\n",
    "    file_path = os.path.join(\"./data/CATANIST dataset\", filename)\n",
    "    try:\n",
    "        img = Image.open(file_path)\n",
    "        images.append(img)\n",
    "    except IOError:\n",
    "        print(f\"Error opening or reading image {filename}\")\n",
    "        \n",
    "for img in images:\n",
    "    print(img)\n",
    "    showImage(img)"
   ]
  }
 ],
 "metadata": {
  "kernelspec": {
   "display_name": "Python 3",
   "language": "python",
   "name": "python3"
  },
  "language_info": {
   "codemirror_mode": {
    "name": "ipython",
    "version": 3
   },
   "file_extension": ".py",
   "mimetype": "text/x-python",
   "name": "python",
   "nbconvert_exporter": "python",
   "pygments_lexer": "ipython3",
   "version": "3.11.7"
  }
 },
 "nbformat": 4,
 "nbformat_minor": 2
}
