{
 "cells": [
  {
   "cell_type": "code",
   "execution_count": 3,
   "metadata": {},
   "outputs": [],
   "source": [
    "import cv2\n",
    "import numpy as np\n",
    "\n",
    "def showImage(img):\n",
    "    cv2.imshow(\"Image display\", img)\n",
    "    cv2.waitKey(0)\n",
    "    cv2.destroyAllWindows()\n",
    "\n",
    "image = cv2.imread('./images/raw/catan00.jpg')\n",
    "image = cv2.resize(image, (0,0), fx=.25, fy=.25)\n",
    "gray = cv2.cvtColor(image, cv2.COLOR_BGR2GRAY)\n",
    "# Apply Gaussian Blur\n",
    "blurred = cv2.GaussianBlur(gray, (5,5), 0)\n",
    "showImage(blurred)\n"
   ]
  },
  {
   "cell_type": "code",
   "execution_count": 5,
   "metadata": {},
   "outputs": [],
   "source": [
    "# Edge detection\n",
    "edges = cv2.Canny(blurred, 75, 150)\n",
    "edges_img = cv2.bitwise_or(blurred, edges)\n",
    "showImage(edges_img)"
   ]
  },
  {
   "cell_type": "code",
   "execution_count": 9,
   "metadata": {},
   "outputs": [],
   "source": [
    "# Find contours\n",
    "contours, _ = cv2.findContours(edges.copy(), cv2.RETR_EXTERNAL, cv2.CHAIN_APPROX_SIMPLE)\n",
    "# See how they look\n",
    "cv2.drawContours(image, contours, -1, (0, 255, 0), 2)\n",
    "showImage(image)\n"
   ]
  },
  {
   "cell_type": "code",
   "execution_count": null,
   "metadata": {},
   "outputs": [],
   "source": [
    "# Init mask\n",
    "mask = np.zeros_like(gray)\n",
    "# Loop through the contours to find hexagons or the board shape\n",
    "for contour in contours:\n",
    "    # Approx contour of a polygon\n",
    "    peri = cv2.arcLength(contour, True)\n",
    "    approx = cv2.approxPolyDP(contour, 0.02 * peri, True)\n",
    "\n",
    "    if len(approx) == 6:\n",
    "        cv2.drawContours(mask, [approx], -1, (255), thickness=cv2.FILLED)\n",
    "\n",
    "showImage(mask)"
   ]
  },
  {
   "cell_type": "code",
   "execution_count": null,
   "metadata": {},
   "outputs": [],
   "source": [
    "# Bitwise operation to only see the board area\n",
    "result = cv2.bitwise_and(image, image, mask=mask)\n",
    "\n",
    "# Display the result\n",
    "cv2.imshow(\"Isolated Catan Board\", result)\n",
    "cv2.waitKey(0)\n",
    "cv2.destroyAllWindows()"
   ]
  }
 ],
 "metadata": {
  "kernelspec": {
   "display_name": "Python 3",
   "language": "python",
   "name": "python3"
  },
  "language_info": {
   "codemirror_mode": {
    "name": "ipython",
    "version": 3
   },
   "file_extension": ".py",
   "mimetype": "text/x-python",
   "name": "python",
   "nbconvert_exporter": "python",
   "pygments_lexer": "ipython3",
   "version": "3.11.7"
  }
 },
 "nbformat": 4,
 "nbformat_minor": 2
}
